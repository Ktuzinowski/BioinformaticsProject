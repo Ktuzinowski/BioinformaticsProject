{
 "cells": [
  {
   "cell_type": "code",
   "execution_count": 54,
   "metadata": {},
   "outputs": [],
   "source": [
    "import pandas as pd \n",
    "import numpy as np\n",
    "import csv"
   ]
  },
  {
   "cell_type": "code",
   "execution_count": 71,
   "metadata": {},
   "outputs": [],
   "source": [
    "import os\n",
    "os.chdir('/Users/kevintuzinowski/Studies/Benchmark_study-master/DBSCANFile')"
   ]
  },
  {
   "cell_type": "code",
   "execution_count": 82,
   "metadata": {},
   "outputs": [
    {
     "data": {
      "text/html": "<div>\n<style scoped>\n    .dataframe tbody tr th:only-of-type {\n        vertical-align: middle;\n    }\n\n    .dataframe tbody tr th {\n        vertical-align: top;\n    }\n\n    .dataframe thead th {\n        text-align: right;\n    }\n</style>\n<table border=\"1\" class=\"dataframe\">\n  <thead>\n    <tr style=\"text-align: right;\">\n      <th></th>\n      <th>UniprotID</th>\n      <th>F1_score</th>\n    </tr>\n    <tr>\n      <th>NewFilename</th>\n      <th></th>\n      <th></th>\n    </tr>\n  </thead>\n  <tbody>\n    <tr>\n      <th>G3WML8_SARHA.augustus</th>\n      <td>G3WML8_SARHA</td>\n      <td>0.997</td>\n    </tr>\n    <tr>\n      <th>X6NC44_RETFI.augustus</th>\n      <td>X6NC44_RETFI</td>\n      <td>0.841</td>\n    </tr>\n    <tr>\n      <th>G3T3V8_LOXAF.augustus</th>\n      <td>G3T3V8_LOXAF</td>\n      <td>0.000</td>\n    </tr>\n    <tr>\n      <th>G3SRN0_LOXAF.augustus</th>\n      <td>G3SRN0_LOXAF</td>\n      <td>0.952</td>\n    </tr>\n    <tr>\n      <th>SDCG8_MOUSE.augustus</th>\n      <td>SDCG8_MOUSE</td>\n      <td>0.055</td>\n    </tr>\n    <tr>\n      <th>...</th>\n      <td>...</td>\n      <td>...</td>\n    </tr>\n    <tr>\n      <th>G1RZS0_NOMLE.augustus</th>\n      <td>G1RZS0_NOMLE</td>\n      <td>0.000</td>\n    </tr>\n    <tr>\n      <th>I3LAV0_PIG.augustus</th>\n      <td>I3LAV0_PIG</td>\n      <td>0.000</td>\n    </tr>\n    <tr>\n      <th>G3PLE4_GASAC.augustus</th>\n      <td>G3PLE4_GASAC</td>\n      <td>0.956</td>\n    </tr>\n    <tr>\n      <th>G4VMY2_SCHMA.augustus</th>\n      <td>G4VMY2_SCHMA</td>\n      <td>0.997</td>\n    </tr>\n    <tr>\n      <th>H2TTM2_TAKRU.augustus</th>\n      <td>H2TTM2_TAKRU</td>\n      <td>0.000</td>\n    </tr>\n  </tbody>\n</table>\n<p>1793 rows × 2 columns</p>\n</div>",
      "text/plain": "                          UniprotID  F1_score\nNewFilename                                  \nG3WML8_SARHA.augustus  G3WML8_SARHA     0.997\nX6NC44_RETFI.augustus  X6NC44_RETFI     0.841\nG3T3V8_LOXAF.augustus  G3T3V8_LOXAF     0.000\nG3SRN0_LOXAF.augustus  G3SRN0_LOXAF     0.952\nSDCG8_MOUSE.augustus    SDCG8_MOUSE     0.055\n...                             ...       ...\nG1RZS0_NOMLE.augustus  G1RZS0_NOMLE     0.000\nI3LAV0_PIG.augustus      I3LAV0_PIG     0.000\nG3PLE4_GASAC.augustus  G3PLE4_GASAC     0.956\nG4VMY2_SCHMA.augustus  G4VMY2_SCHMA     0.997\nH2TTM2_TAKRU.augustus  H2TTM2_TAKRU     0.000\n\n[1793 rows x 2 columns]"
     },
     "execution_count": 82,
     "metadata": {},
     "output_type": "execute_result"
    }
   ],
   "source": [
    "df_augustus = pd.read_csv('augustus2kbDBSCAN.csv', index_col=1)\n",
    "df_augustus.head()\n",
    "df_augustus.drop(columns=['Unnamed: 0'])"
   ]
  },
  {
   "cell_type": "code",
   "execution_count": 83,
   "metadata": {},
   "outputs": [
    {
     "data": {
      "text/plain": "[1, 1, 1, 1, 1, 1, 1, 1, 1]"
     },
     "execution_count": 83,
     "metadata": {},
     "output_type": "execute_result"
    }
   ],
   "source": [
    "augustus_program = []\n",
    "for i in range(1793):\n",
    "    augustus_program.append(1)\n",
    "augustus_program[1:10]\n"
   ]
  },
  {
   "cell_type": "code",
   "execution_count": 86,
   "metadata": {},
   "outputs": [
    {
     "data": {
      "text/html": "<div>\n<style scoped>\n    .dataframe tbody tr th:only-of-type {\n        vertical-align: middle;\n    }\n\n    .dataframe tbody tr th {\n        vertical-align: top;\n    }\n\n    .dataframe thead th {\n        text-align: right;\n    }\n</style>\n<table border=\"1\" class=\"dataframe\">\n  <thead>\n    <tr style=\"text-align: right;\">\n      <th></th>\n      <th>UniprotID</th>\n      <th>F1_score</th>\n      <th>Gene Prediction Program</th>\n    </tr>\n    <tr>\n      <th>NewFilename</th>\n      <th></th>\n      <th></th>\n      <th></th>\n    </tr>\n  </thead>\n  <tbody>\n    <tr>\n      <th>G3WML8_SARHA.augustus</th>\n      <td>G3WML8_SARHA</td>\n      <td>0.997</td>\n      <td>1</td>\n    </tr>\n    <tr>\n      <th>X6NC44_RETFI.augustus</th>\n      <td>X6NC44_RETFI</td>\n      <td>0.841</td>\n      <td>1</td>\n    </tr>\n    <tr>\n      <th>G3T3V8_LOXAF.augustus</th>\n      <td>G3T3V8_LOXAF</td>\n      <td>0.000</td>\n      <td>1</td>\n    </tr>\n    <tr>\n      <th>G3SRN0_LOXAF.augustus</th>\n      <td>G3SRN0_LOXAF</td>\n      <td>0.952</td>\n      <td>1</td>\n    </tr>\n    <tr>\n      <th>SDCG8_MOUSE.augustus</th>\n      <td>SDCG8_MOUSE</td>\n      <td>0.055</td>\n      <td>1</td>\n    </tr>\n    <tr>\n      <th>...</th>\n      <td>...</td>\n      <td>...</td>\n      <td>...</td>\n    </tr>\n    <tr>\n      <th>G1RZS0_NOMLE.augustus</th>\n      <td>G1RZS0_NOMLE</td>\n      <td>0.000</td>\n      <td>1</td>\n    </tr>\n    <tr>\n      <th>I3LAV0_PIG.augustus</th>\n      <td>I3LAV0_PIG</td>\n      <td>0.000</td>\n      <td>1</td>\n    </tr>\n    <tr>\n      <th>G3PLE4_GASAC.augustus</th>\n      <td>G3PLE4_GASAC</td>\n      <td>0.956</td>\n      <td>1</td>\n    </tr>\n    <tr>\n      <th>G4VMY2_SCHMA.augustus</th>\n      <td>G4VMY2_SCHMA</td>\n      <td>0.997</td>\n      <td>1</td>\n    </tr>\n    <tr>\n      <th>H2TTM2_TAKRU.augustus</th>\n      <td>H2TTM2_TAKRU</td>\n      <td>0.000</td>\n      <td>1</td>\n    </tr>\n  </tbody>\n</table>\n<p>1793 rows × 3 columns</p>\n</div>",
      "text/plain": "                          UniprotID  F1_score  Gene Prediction Program\nNewFilename                                                           \nG3WML8_SARHA.augustus  G3WML8_SARHA     0.997                        1\nX6NC44_RETFI.augustus  X6NC44_RETFI     0.841                        1\nG3T3V8_LOXAF.augustus  G3T3V8_LOXAF     0.000                        1\nG3SRN0_LOXAF.augustus  G3SRN0_LOXAF     0.952                        1\nSDCG8_MOUSE.augustus    SDCG8_MOUSE     0.055                        1\n...                             ...       ...                      ...\nG1RZS0_NOMLE.augustus  G1RZS0_NOMLE     0.000                        1\nI3LAV0_PIG.augustus      I3LAV0_PIG     0.000                        1\nG3PLE4_GASAC.augustus  G3PLE4_GASAC     0.956                        1\nG4VMY2_SCHMA.augustus  G4VMY2_SCHMA     0.997                        1\nH2TTM2_TAKRU.augustus  H2TTM2_TAKRU     0.000                        1\n\n[1793 rows x 3 columns]"
     },
     "execution_count": 86,
     "metadata": {},
     "output_type": "execute_result"
    }
   ],
   "source": [
    "df_augustus['Gene Prediction Program'] = augustus_program\n",
    "df_augustus.head()\n",
    "df_augustus.drop(columns=['Unnamed: 0'])"
   ]
  },
  {
   "cell_type": "code",
   "execution_count": 87,
   "metadata": {},
   "outputs": [
    {
     "data": {
      "text/html": "<div>\n<style scoped>\n    .dataframe tbody tr th:only-of-type {\n        vertical-align: middle;\n    }\n\n    .dataframe tbody tr th {\n        vertical-align: top;\n    }\n\n    .dataframe thead th {\n        text-align: right;\n    }\n</style>\n<table border=\"1\" class=\"dataframe\">\n  <thead>\n    <tr style=\"text-align: right;\">\n      <th></th>\n      <th>UniprotID</th>\n      <th>F1_score</th>\n    </tr>\n    <tr>\n      <th>NewFilename</th>\n      <th></th>\n      <th></th>\n    </tr>\n  </thead>\n  <tbody>\n    <tr>\n      <th>G3WML8_SARHA.geneid</th>\n      <td>G3WML8_SARHA</td>\n      <td>0.937</td>\n    </tr>\n    <tr>\n      <th>X6NC44_RETFI.geneid</th>\n      <td>X6NC44_RETFI</td>\n      <td>0.000</td>\n    </tr>\n    <tr>\n      <th>G3T3V8_LOXAF.geneid</th>\n      <td>G3T3V8_LOXAF</td>\n      <td>0.000</td>\n    </tr>\n    <tr>\n      <th>G3SRN0_LOXAF.geneid</th>\n      <td>G3SRN0_LOXAF</td>\n      <td>0.100</td>\n    </tr>\n    <tr>\n      <th>SDCG8_MOUSE.geneid</th>\n      <td>SDCG8_MOUSE</td>\n      <td>0.260</td>\n    </tr>\n    <tr>\n      <th>...</th>\n      <td>...</td>\n      <td>...</td>\n    </tr>\n    <tr>\n      <th>G1RZS0_NOMLE.geneid</th>\n      <td>G1RZS0_NOMLE</td>\n      <td>0.008</td>\n    </tr>\n    <tr>\n      <th>I3LAV0_PIG.geneid</th>\n      <td>I3LAV0_PIG</td>\n      <td>0.000</td>\n    </tr>\n    <tr>\n      <th>G3PLE4_GASAC.geneid</th>\n      <td>G3PLE4_GASAC</td>\n      <td>0.974</td>\n    </tr>\n    <tr>\n      <th>G4VMY2_SCHMA.geneid</th>\n      <td>G4VMY2_SCHMA</td>\n      <td>0.845</td>\n    </tr>\n    <tr>\n      <th>H2TTM2_TAKRU.geneid</th>\n      <td>H2TTM2_TAKRU</td>\n      <td>0.000</td>\n    </tr>\n  </tbody>\n</table>\n<p>1793 rows × 2 columns</p>\n</div>",
      "text/plain": "                        UniprotID  F1_score\nNewFilename                                \nG3WML8_SARHA.geneid  G3WML8_SARHA     0.937\nX6NC44_RETFI.geneid  X6NC44_RETFI     0.000\nG3T3V8_LOXAF.geneid  G3T3V8_LOXAF     0.000\nG3SRN0_LOXAF.geneid  G3SRN0_LOXAF     0.100\nSDCG8_MOUSE.geneid    SDCG8_MOUSE     0.260\n...                           ...       ...\nG1RZS0_NOMLE.geneid  G1RZS0_NOMLE     0.008\nI3LAV0_PIG.geneid      I3LAV0_PIG     0.000\nG3PLE4_GASAC.geneid  G3PLE4_GASAC     0.974\nG4VMY2_SCHMA.geneid  G4VMY2_SCHMA     0.845\nH2TTM2_TAKRU.geneid  H2TTM2_TAKRU     0.000\n\n[1793 rows x 2 columns]"
     },
     "execution_count": 87,
     "metadata": {},
     "output_type": "execute_result"
    }
   ],
   "source": [
    "df_geneid = pd.read_csv('geneid2kbDBSCAN.csv', index_col=1)\n",
    "df_geneid.head()\n",
    "df_geneid.drop(columns=['Unnamed: 0'])"
   ]
  },
  {
   "cell_type": "code",
   "execution_count": 88,
   "metadata": {},
   "outputs": [
    {
     "data": {
      "text/plain": "[2, 2, 2, 2, 2, 2, 2, 2, 2]"
     },
     "execution_count": 88,
     "metadata": {},
     "output_type": "execute_result"
    }
   ],
   "source": [
    "geneid_program = []\n",
    "for i in range(1793):\n",
    "    geneid_program.append(2)\n",
    "geneid_program[1:10]"
   ]
  },
  {
   "cell_type": "code",
   "execution_count": 89,
   "metadata": {},
   "outputs": [
    {
     "data": {
      "text/html": "<div>\n<style scoped>\n    .dataframe tbody tr th:only-of-type {\n        vertical-align: middle;\n    }\n\n    .dataframe tbody tr th {\n        vertical-align: top;\n    }\n\n    .dataframe thead th {\n        text-align: right;\n    }\n</style>\n<table border=\"1\" class=\"dataframe\">\n  <thead>\n    <tr style=\"text-align: right;\">\n      <th></th>\n      <th>UniprotID</th>\n      <th>F1_score</th>\n      <th>Gene Prediction Program</th>\n    </tr>\n    <tr>\n      <th>NewFilename</th>\n      <th></th>\n      <th></th>\n      <th></th>\n    </tr>\n  </thead>\n  <tbody>\n    <tr>\n      <th>G3WML8_SARHA.geneid</th>\n      <td>G3WML8_SARHA</td>\n      <td>0.937</td>\n      <td>2</td>\n    </tr>\n    <tr>\n      <th>X6NC44_RETFI.geneid</th>\n      <td>X6NC44_RETFI</td>\n      <td>0.000</td>\n      <td>2</td>\n    </tr>\n    <tr>\n      <th>G3T3V8_LOXAF.geneid</th>\n      <td>G3T3V8_LOXAF</td>\n      <td>0.000</td>\n      <td>2</td>\n    </tr>\n    <tr>\n      <th>G3SRN0_LOXAF.geneid</th>\n      <td>G3SRN0_LOXAF</td>\n      <td>0.100</td>\n      <td>2</td>\n    </tr>\n    <tr>\n      <th>SDCG8_MOUSE.geneid</th>\n      <td>SDCG8_MOUSE</td>\n      <td>0.260</td>\n      <td>2</td>\n    </tr>\n    <tr>\n      <th>...</th>\n      <td>...</td>\n      <td>...</td>\n      <td>...</td>\n    </tr>\n    <tr>\n      <th>G1RZS0_NOMLE.geneid</th>\n      <td>G1RZS0_NOMLE</td>\n      <td>0.008</td>\n      <td>2</td>\n    </tr>\n    <tr>\n      <th>I3LAV0_PIG.geneid</th>\n      <td>I3LAV0_PIG</td>\n      <td>0.000</td>\n      <td>2</td>\n    </tr>\n    <tr>\n      <th>G3PLE4_GASAC.geneid</th>\n      <td>G3PLE4_GASAC</td>\n      <td>0.974</td>\n      <td>2</td>\n    </tr>\n    <tr>\n      <th>G4VMY2_SCHMA.geneid</th>\n      <td>G4VMY2_SCHMA</td>\n      <td>0.845</td>\n      <td>2</td>\n    </tr>\n    <tr>\n      <th>H2TTM2_TAKRU.geneid</th>\n      <td>H2TTM2_TAKRU</td>\n      <td>0.000</td>\n      <td>2</td>\n    </tr>\n  </tbody>\n</table>\n<p>1793 rows × 3 columns</p>\n</div>",
      "text/plain": "                        UniprotID  F1_score  Gene Prediction Program\nNewFilename                                                         \nG3WML8_SARHA.geneid  G3WML8_SARHA     0.937                        2\nX6NC44_RETFI.geneid  X6NC44_RETFI     0.000                        2\nG3T3V8_LOXAF.geneid  G3T3V8_LOXAF     0.000                        2\nG3SRN0_LOXAF.geneid  G3SRN0_LOXAF     0.100                        2\nSDCG8_MOUSE.geneid    SDCG8_MOUSE     0.260                        2\n...                           ...       ...                      ...\nG1RZS0_NOMLE.geneid  G1RZS0_NOMLE     0.008                        2\nI3LAV0_PIG.geneid      I3LAV0_PIG     0.000                        2\nG3PLE4_GASAC.geneid  G3PLE4_GASAC     0.974                        2\nG4VMY2_SCHMA.geneid  G4VMY2_SCHMA     0.845                        2\nH2TTM2_TAKRU.geneid  H2TTM2_TAKRU     0.000                        2\n\n[1793 rows x 3 columns]"
     },
     "execution_count": 89,
     "metadata": {},
     "output_type": "execute_result"
    }
   ],
   "source": [
    "df_geneid['Gene Prediction Program'] = geneid_program\n",
    "df_geneid.head()\n",
    "df_geneid.drop(columns=['Unnamed: 0'])"
   ]
  },
  {
   "cell_type": "code",
   "execution_count": 90,
   "metadata": {},
   "outputs": [
    {
     "data": {
      "text/html": "<div>\n<style scoped>\n    .dataframe tbody tr th:only-of-type {\n        vertical-align: middle;\n    }\n\n    .dataframe tbody tr th {\n        vertical-align: top;\n    }\n\n    .dataframe thead th {\n        text-align: right;\n    }\n</style>\n<table border=\"1\" class=\"dataframe\">\n  <thead>\n    <tr style=\"text-align: right;\">\n      <th></th>\n      <th>UniprotID</th>\n      <th>F1_score</th>\n    </tr>\n    <tr>\n      <th>NewFilename</th>\n      <th></th>\n      <th></th>\n    </tr>\n  </thead>\n  <tbody>\n    <tr>\n      <th>G3WML8_SARHA.genscan</th>\n      <td>G3WML8_SARHA</td>\n      <td>0.997</td>\n    </tr>\n    <tr>\n      <th>X6NC44_RETFI.genscan</th>\n      <td>X6NC44_RETFI</td>\n      <td>0.000</td>\n    </tr>\n    <tr>\n      <th>G3T3V8_LOXAF.genscan</th>\n      <td>G3T3V8_LOXAF</td>\n      <td>0.000</td>\n    </tr>\n    <tr>\n      <th>G3SRN0_LOXAF.genscan</th>\n      <td>G3SRN0_LOXAF</td>\n      <td>0.624</td>\n    </tr>\n    <tr>\n      <th>SDCG8_MOUSE.genscan</th>\n      <td>SDCG8_MOUSE</td>\n      <td>0.185</td>\n    </tr>\n    <tr>\n      <th>...</th>\n      <td>...</td>\n      <td>...</td>\n    </tr>\n    <tr>\n      <th>G1RZS0_NOMLE.genscan</th>\n      <td>G1RZS0_NOMLE</td>\n      <td>0.023</td>\n    </tr>\n    <tr>\n      <th>I3LAV0_PIG.genscan</th>\n      <td>I3LAV0_PIG</td>\n      <td>0.000</td>\n    </tr>\n    <tr>\n      <th>G3PLE4_GASAC.genscan</th>\n      <td>G3PLE4_GASAC</td>\n      <td>0.840</td>\n    </tr>\n    <tr>\n      <th>G4VMY2_SCHMA.genscan</th>\n      <td>G4VMY2_SCHMA</td>\n      <td>0.916</td>\n    </tr>\n    <tr>\n      <th>H2TTM2_TAKRU.genscan</th>\n      <td>H2TTM2_TAKRU</td>\n      <td>0.000</td>\n    </tr>\n  </tbody>\n</table>\n<p>1793 rows × 2 columns</p>\n</div>",
      "text/plain": "                         UniprotID  F1_score\nNewFilename                                 \nG3WML8_SARHA.genscan  G3WML8_SARHA     0.997\nX6NC44_RETFI.genscan  X6NC44_RETFI     0.000\nG3T3V8_LOXAF.genscan  G3T3V8_LOXAF     0.000\nG3SRN0_LOXAF.genscan  G3SRN0_LOXAF     0.624\nSDCG8_MOUSE.genscan    SDCG8_MOUSE     0.185\n...                            ...       ...\nG1RZS0_NOMLE.genscan  G1RZS0_NOMLE     0.023\nI3LAV0_PIG.genscan      I3LAV0_PIG     0.000\nG3PLE4_GASAC.genscan  G3PLE4_GASAC     0.840\nG4VMY2_SCHMA.genscan  G4VMY2_SCHMA     0.916\nH2TTM2_TAKRU.genscan  H2TTM2_TAKRU     0.000\n\n[1793 rows x 2 columns]"
     },
     "execution_count": 90,
     "metadata": {},
     "output_type": "execute_result"
    }
   ],
   "source": [
    "df_genscan = pd.read_csv('genscan2kbDBSCAN.csv', index_col=1)\n",
    "df_genscan.head()\n",
    "df_genscan.drop(columns=['Unnamed: 0'])"
   ]
  },
  {
   "cell_type": "code",
   "execution_count": 91,
   "metadata": {},
   "outputs": [
    {
     "data": {
      "text/plain": "[3, 3, 3, 3, 3, 3, 3, 3, 3]"
     },
     "execution_count": 91,
     "metadata": {},
     "output_type": "execute_result"
    }
   ],
   "source": [
    "genscan_program = []\n",
    "for i in range(1793):\n",
    "    genscan_program.append(3)\n",
    "genscan_program[1:10]"
   ]
  },
  {
   "cell_type": "code",
   "execution_count": 92,
   "metadata": {},
   "outputs": [
    {
     "data": {
      "text/html": "<div>\n<style scoped>\n    .dataframe tbody tr th:only-of-type {\n        vertical-align: middle;\n    }\n\n    .dataframe tbody tr th {\n        vertical-align: top;\n    }\n\n    .dataframe thead th {\n        text-align: right;\n    }\n</style>\n<table border=\"1\" class=\"dataframe\">\n  <thead>\n    <tr style=\"text-align: right;\">\n      <th></th>\n      <th>UniprotID</th>\n      <th>F1_score</th>\n      <th>Gene Prediction Program</th>\n    </tr>\n    <tr>\n      <th>NewFilename</th>\n      <th></th>\n      <th></th>\n      <th></th>\n    </tr>\n  </thead>\n  <tbody>\n    <tr>\n      <th>G3WML8_SARHA.genscan</th>\n      <td>G3WML8_SARHA</td>\n      <td>0.997</td>\n      <td>3</td>\n    </tr>\n    <tr>\n      <th>X6NC44_RETFI.genscan</th>\n      <td>X6NC44_RETFI</td>\n      <td>0.000</td>\n      <td>3</td>\n    </tr>\n    <tr>\n      <th>G3T3V8_LOXAF.genscan</th>\n      <td>G3T3V8_LOXAF</td>\n      <td>0.000</td>\n      <td>3</td>\n    </tr>\n    <tr>\n      <th>G3SRN0_LOXAF.genscan</th>\n      <td>G3SRN0_LOXAF</td>\n      <td>0.624</td>\n      <td>3</td>\n    </tr>\n    <tr>\n      <th>SDCG8_MOUSE.genscan</th>\n      <td>SDCG8_MOUSE</td>\n      <td>0.185</td>\n      <td>3</td>\n    </tr>\n    <tr>\n      <th>...</th>\n      <td>...</td>\n      <td>...</td>\n      <td>...</td>\n    </tr>\n    <tr>\n      <th>G1RZS0_NOMLE.genscan</th>\n      <td>G1RZS0_NOMLE</td>\n      <td>0.023</td>\n      <td>3</td>\n    </tr>\n    <tr>\n      <th>I3LAV0_PIG.genscan</th>\n      <td>I3LAV0_PIG</td>\n      <td>0.000</td>\n      <td>3</td>\n    </tr>\n    <tr>\n      <th>G3PLE4_GASAC.genscan</th>\n      <td>G3PLE4_GASAC</td>\n      <td>0.840</td>\n      <td>3</td>\n    </tr>\n    <tr>\n      <th>G4VMY2_SCHMA.genscan</th>\n      <td>G4VMY2_SCHMA</td>\n      <td>0.916</td>\n      <td>3</td>\n    </tr>\n    <tr>\n      <th>H2TTM2_TAKRU.genscan</th>\n      <td>H2TTM2_TAKRU</td>\n      <td>0.000</td>\n      <td>3</td>\n    </tr>\n  </tbody>\n</table>\n<p>1793 rows × 3 columns</p>\n</div>",
      "text/plain": "                         UniprotID  F1_score  Gene Prediction Program\nNewFilename                                                          \nG3WML8_SARHA.genscan  G3WML8_SARHA     0.997                        3\nX6NC44_RETFI.genscan  X6NC44_RETFI     0.000                        3\nG3T3V8_LOXAF.genscan  G3T3V8_LOXAF     0.000                        3\nG3SRN0_LOXAF.genscan  G3SRN0_LOXAF     0.624                        3\nSDCG8_MOUSE.genscan    SDCG8_MOUSE     0.185                        3\n...                            ...       ...                      ...\nG1RZS0_NOMLE.genscan  G1RZS0_NOMLE     0.023                        3\nI3LAV0_PIG.genscan      I3LAV0_PIG     0.000                        3\nG3PLE4_GASAC.genscan  G3PLE4_GASAC     0.840                        3\nG4VMY2_SCHMA.genscan  G4VMY2_SCHMA     0.916                        3\nH2TTM2_TAKRU.genscan  H2TTM2_TAKRU     0.000                        3\n\n[1793 rows x 3 columns]"
     },
     "execution_count": 92,
     "metadata": {},
     "output_type": "execute_result"
    }
   ],
   "source": [
    "df_genscan['Gene Prediction Program'] = genscan_program\n",
    "df_genscan.head()\n",
    "df_genscan.drop(columns=['Unnamed: 0'])"
   ]
  },
  {
   "cell_type": "code",
   "execution_count": 94,
   "metadata": {},
   "outputs": [
    {
     "data": {
      "text/html": "<div>\n<style scoped>\n    .dataframe tbody tr th:only-of-type {\n        vertical-align: middle;\n    }\n\n    .dataframe tbody tr th {\n        vertical-align: top;\n    }\n\n    .dataframe thead th {\n        text-align: right;\n    }\n</style>\n<table border=\"1\" class=\"dataframe\">\n  <thead>\n    <tr style=\"text-align: right;\">\n      <th></th>\n      <th>UniprotID</th>\n      <th>F1_score</th>\n    </tr>\n    <tr>\n      <th>NewFilename</th>\n      <th></th>\n      <th></th>\n    </tr>\n  </thead>\n  <tbody>\n    <tr>\n      <th>G3WML8_SARHA.glimmer</th>\n      <td>G3WML8_SARHA</td>\n      <td>0.997</td>\n    </tr>\n    <tr>\n      <th>X6NC44_RETFI.glimmer</th>\n      <td>X6NC44_RETFI</td>\n      <td>0.580</td>\n    </tr>\n    <tr>\n      <th>G3T3V8_LOXAF.glimmer</th>\n      <td>G3T3V8_LOXAF</td>\n      <td>0.000</td>\n    </tr>\n    <tr>\n      <th>G3SRN0_LOXAF.glimmer</th>\n      <td>G3SRN0_LOXAF</td>\n      <td>0.083</td>\n    </tr>\n    <tr>\n      <th>SDCG8_MOUSE.glimmer</th>\n      <td>SDCG8_MOUSE</td>\n      <td>0.024</td>\n    </tr>\n    <tr>\n      <th>...</th>\n      <td>...</td>\n      <td>...</td>\n    </tr>\n    <tr>\n      <th>G1RZS0_NOMLE.glimmer</th>\n      <td>G1RZS0_NOMLE</td>\n      <td>0.012</td>\n    </tr>\n    <tr>\n      <th>I3LAV0_PIG.glimmer</th>\n      <td>I3LAV0_PIG</td>\n      <td>0.000</td>\n    </tr>\n    <tr>\n      <th>G3PLE4_GASAC.glimmer</th>\n      <td>G3PLE4_GASAC</td>\n      <td>0.452</td>\n    </tr>\n    <tr>\n      <th>G4VMY2_SCHMA.glimmer</th>\n      <td>G4VMY2_SCHMA</td>\n      <td>0.303</td>\n    </tr>\n    <tr>\n      <th>H2TTM2_TAKRU.glimmer</th>\n      <td>H2TTM2_TAKRU</td>\n      <td>0.000</td>\n    </tr>\n  </tbody>\n</table>\n<p>1793 rows × 2 columns</p>\n</div>",
      "text/plain": "                         UniprotID  F1_score\nNewFilename                                 \nG3WML8_SARHA.glimmer  G3WML8_SARHA     0.997\nX6NC44_RETFI.glimmer  X6NC44_RETFI     0.580\nG3T3V8_LOXAF.glimmer  G3T3V8_LOXAF     0.000\nG3SRN0_LOXAF.glimmer  G3SRN0_LOXAF     0.083\nSDCG8_MOUSE.glimmer    SDCG8_MOUSE     0.024\n...                            ...       ...\nG1RZS0_NOMLE.glimmer  G1RZS0_NOMLE     0.012\nI3LAV0_PIG.glimmer      I3LAV0_PIG     0.000\nG3PLE4_GASAC.glimmer  G3PLE4_GASAC     0.452\nG4VMY2_SCHMA.glimmer  G4VMY2_SCHMA     0.303\nH2TTM2_TAKRU.glimmer  H2TTM2_TAKRU     0.000\n\n[1793 rows x 2 columns]"
     },
     "execution_count": 94,
     "metadata": {},
     "output_type": "execute_result"
    }
   ],
   "source": [
    "df_glimmer = pd.read_csv('glimmer2kbDBSCAN.csv', index_col=1)\n",
    "df_glimmer.head()\n",
    "df_glimmer.drop(columns=['Unnamed: 0'])"
   ]
  },
  {
   "cell_type": "code",
   "execution_count": 95,
   "metadata": {},
   "outputs": [
    {
     "data": {
      "text/plain": "[4, 4, 4, 4, 4, 4, 4, 4, 4]"
     },
     "execution_count": 95,
     "metadata": {},
     "output_type": "execute_result"
    }
   ],
   "source": [
    "glimmer_program = []\n",
    "for i in range(1793):\n",
    "    glimmer_program.append(4)\n",
    "glimmer_program[1:10]"
   ]
  },
  {
   "cell_type": "code",
   "execution_count": 96,
   "metadata": {},
   "outputs": [
    {
     "data": {
      "text/html": "<div>\n<style scoped>\n    .dataframe tbody tr th:only-of-type {\n        vertical-align: middle;\n    }\n\n    .dataframe tbody tr th {\n        vertical-align: top;\n    }\n\n    .dataframe thead th {\n        text-align: right;\n    }\n</style>\n<table border=\"1\" class=\"dataframe\">\n  <thead>\n    <tr style=\"text-align: right;\">\n      <th></th>\n      <th>UniprotID</th>\n      <th>F1_score</th>\n      <th>Gene Prediction Program</th>\n    </tr>\n    <tr>\n      <th>NewFilename</th>\n      <th></th>\n      <th></th>\n      <th></th>\n    </tr>\n  </thead>\n  <tbody>\n    <tr>\n      <th>G3WML8_SARHA.glimmer</th>\n      <td>G3WML8_SARHA</td>\n      <td>0.997</td>\n      <td>4</td>\n    </tr>\n    <tr>\n      <th>X6NC44_RETFI.glimmer</th>\n      <td>X6NC44_RETFI</td>\n      <td>0.580</td>\n      <td>4</td>\n    </tr>\n    <tr>\n      <th>G3T3V8_LOXAF.glimmer</th>\n      <td>G3T3V8_LOXAF</td>\n      <td>0.000</td>\n      <td>4</td>\n    </tr>\n    <tr>\n      <th>G3SRN0_LOXAF.glimmer</th>\n      <td>G3SRN0_LOXAF</td>\n      <td>0.083</td>\n      <td>4</td>\n    </tr>\n    <tr>\n      <th>SDCG8_MOUSE.glimmer</th>\n      <td>SDCG8_MOUSE</td>\n      <td>0.024</td>\n      <td>4</td>\n    </tr>\n    <tr>\n      <th>...</th>\n      <td>...</td>\n      <td>...</td>\n      <td>...</td>\n    </tr>\n    <tr>\n      <th>G1RZS0_NOMLE.glimmer</th>\n      <td>G1RZS0_NOMLE</td>\n      <td>0.012</td>\n      <td>4</td>\n    </tr>\n    <tr>\n      <th>I3LAV0_PIG.glimmer</th>\n      <td>I3LAV0_PIG</td>\n      <td>0.000</td>\n      <td>4</td>\n    </tr>\n    <tr>\n      <th>G3PLE4_GASAC.glimmer</th>\n      <td>G3PLE4_GASAC</td>\n      <td>0.452</td>\n      <td>4</td>\n    </tr>\n    <tr>\n      <th>G4VMY2_SCHMA.glimmer</th>\n      <td>G4VMY2_SCHMA</td>\n      <td>0.303</td>\n      <td>4</td>\n    </tr>\n    <tr>\n      <th>H2TTM2_TAKRU.glimmer</th>\n      <td>H2TTM2_TAKRU</td>\n      <td>0.000</td>\n      <td>4</td>\n    </tr>\n  </tbody>\n</table>\n<p>1793 rows × 3 columns</p>\n</div>",
      "text/plain": "                         UniprotID  F1_score  Gene Prediction Program\nNewFilename                                                          \nG3WML8_SARHA.glimmer  G3WML8_SARHA     0.997                        4\nX6NC44_RETFI.glimmer  X6NC44_RETFI     0.580                        4\nG3T3V8_LOXAF.glimmer  G3T3V8_LOXAF     0.000                        4\nG3SRN0_LOXAF.glimmer  G3SRN0_LOXAF     0.083                        4\nSDCG8_MOUSE.glimmer    SDCG8_MOUSE     0.024                        4\n...                            ...       ...                      ...\nG1RZS0_NOMLE.glimmer  G1RZS0_NOMLE     0.012                        4\nI3LAV0_PIG.glimmer      I3LAV0_PIG     0.000                        4\nG3PLE4_GASAC.glimmer  G3PLE4_GASAC     0.452                        4\nG4VMY2_SCHMA.glimmer  G4VMY2_SCHMA     0.303                        4\nH2TTM2_TAKRU.glimmer  H2TTM2_TAKRU     0.000                        4\n\n[1793 rows x 3 columns]"
     },
     "execution_count": 96,
     "metadata": {},
     "output_type": "execute_result"
    }
   ],
   "source": [
    "df_glimmer['Gene Prediction Program'] = glimmer_program\n",
    "df_glimmer.head()\n",
    "df_glimmer.drop(columns=['Unnamed: 0'])"
   ]
  },
  {
   "cell_type": "code",
   "execution_count": 98,
   "metadata": {},
   "outputs": [
    {
     "data": {
      "text/html": "<div>\n<style scoped>\n    .dataframe tbody tr th:only-of-type {\n        vertical-align: middle;\n    }\n\n    .dataframe tbody tr th {\n        vertical-align: top;\n    }\n\n    .dataframe thead th {\n        text-align: right;\n    }\n</style>\n<table border=\"1\" class=\"dataframe\">\n  <thead>\n    <tr style=\"text-align: right;\">\n      <th></th>\n      <th>UniprotID</th>\n      <th>F1_score</th>\n      <th>Gene Prediction Program</th>\n    </tr>\n    <tr>\n      <th>NewFilename</th>\n      <th></th>\n      <th></th>\n      <th></th>\n    </tr>\n  </thead>\n  <tbody>\n    <tr>\n      <th>G3WML8_SARHA.snap</th>\n      <td>G3WML8_SARHA</td>\n      <td>0.997</td>\n      <td>5</td>\n    </tr>\n    <tr>\n      <th>X6NC44_RETFI.snap</th>\n      <td>X6NC44_RETFI</td>\n      <td>0.000</td>\n      <td>5</td>\n    </tr>\n    <tr>\n      <th>G3T3V8_LOXAF.snap</th>\n      <td>G3T3V8_LOXAF</td>\n      <td>0.000</td>\n      <td>5</td>\n    </tr>\n    <tr>\n      <th>G3SRN0_LOXAF.snap</th>\n      <td>G3SRN0_LOXAF</td>\n      <td>0.094</td>\n      <td>5</td>\n    </tr>\n    <tr>\n      <th>SDCG8_MOUSE.snap</th>\n      <td>SDCG8_MOUSE</td>\n      <td>0.362</td>\n      <td>5</td>\n    </tr>\n    <tr>\n      <th>...</th>\n      <td>...</td>\n      <td>...</td>\n      <td>...</td>\n    </tr>\n    <tr>\n      <th>G1RZS0_NOMLE.snap</th>\n      <td>G1RZS0_NOMLE</td>\n      <td>0.000</td>\n      <td>5</td>\n    </tr>\n    <tr>\n      <th>I3LAV0_PIG.snap</th>\n      <td>I3LAV0_PIG</td>\n      <td>0.000</td>\n      <td>5</td>\n    </tr>\n    <tr>\n      <th>G3PLE4_GASAC.snap</th>\n      <td>G3PLE4_GASAC</td>\n      <td>0.870</td>\n      <td>5</td>\n    </tr>\n    <tr>\n      <th>G4VMY2_SCHMA.snap</th>\n      <td>G4VMY2_SCHMA</td>\n      <td>0.734</td>\n      <td>5</td>\n    </tr>\n    <tr>\n      <th>H2TTM2_TAKRU.snap</th>\n      <td>H2TTM2_TAKRU</td>\n      <td>0.000</td>\n      <td>5</td>\n    </tr>\n  </tbody>\n</table>\n<p>1793 rows × 3 columns</p>\n</div>",
      "text/plain": "                      UniprotID  F1_score  Gene Prediction Program\nNewFilename                                                       \nG3WML8_SARHA.snap  G3WML8_SARHA     0.997                        5\nX6NC44_RETFI.snap  X6NC44_RETFI     0.000                        5\nG3T3V8_LOXAF.snap  G3T3V8_LOXAF     0.000                        5\nG3SRN0_LOXAF.snap  G3SRN0_LOXAF     0.094                        5\nSDCG8_MOUSE.snap    SDCG8_MOUSE     0.362                        5\n...                         ...       ...                      ...\nG1RZS0_NOMLE.snap  G1RZS0_NOMLE     0.000                        5\nI3LAV0_PIG.snap      I3LAV0_PIG     0.000                        5\nG3PLE4_GASAC.snap  G3PLE4_GASAC     0.870                        5\nG4VMY2_SCHMA.snap  G4VMY2_SCHMA     0.734                        5\nH2TTM2_TAKRU.snap  H2TTM2_TAKRU     0.000                        5\n\n[1793 rows x 3 columns]"
     },
     "execution_count": 98,
     "metadata": {},
     "output_type": "execute_result"
    }
   ],
   "source": [
    "df_snap = pd.read_csv('snap2kbDBSCAN.csv', index_col=1)\n",
    "df_snap.head()\n",
    "df_snap.drop(columns=['Unnamed: 0'])\n",
    "snap_program = []\n",
    "for i in range(1793):\n",
    "    snap_program.append(5)\n",
    "snap_program[1:10]\n",
    "df_snap['Gene Prediction Program'] = snap_program\n",
    "df_snap.head()\n",
    "df_snap.drop(columns=['Unnamed: 0'])"
   ]
  },
  {
   "cell_type": "code",
   "execution_count": 106,
   "metadata": {},
   "outputs": [],
   "source": [
    "df_augustus_copy = df_augustus.copy()\n",
    "df_geneid_copy = df_geneid.copy()\n",
    "df_genscan_copy = df_genscan.copy()\n",
    "df_glimmer_copy = df_glimmer.copy()\n",
    "df_snap_copy = df_snap.copy()"
   ]
  },
  {
   "cell_type": "code",
   "execution_count": 107,
   "metadata": {},
   "outputs": [],
   "source": [
    "df_augustus_copy = df_augustus_copy.drop(columns=['Unnamed: 0'])\n",
    "df_geneid_copy = df_geneid_copy.drop(columns=['Unnamed: 0'])\n",
    "df_genscan_copy = df_genscan_copy.drop(columns=['Unnamed: 0'])\n",
    "df_glimmer_copy = df_glimmer_copy.drop(columns=['Unnamed: 0'])\n",
    "df_snap_copy = df_snap_copy.drop(columns=['Unnamed: 0'])"
   ]
  },
  {
   "cell_type": "code",
   "execution_count": 120,
   "metadata": {},
   "outputs": [],
   "source": [
    "df_DBSCANfile = df_augustus_copy.append(df_geneid_copy)\n",
    "df_DBSCANfile = df_DBSCANfile.append(df_genscan_copy)\n",
    "df_DBSCANfile = df_DBSCANfile.append(df_glimmer_copy)\n",
    "df_DBSCANfile = df_DBSCANfile.append(df_snap_copy)"
   ]
  },
  {
   "cell_type": "code",
   "execution_count": 121,
   "metadata": {},
   "outputs": [
    {
     "data": {
      "text/html": "<div>\n<style scoped>\n    .dataframe tbody tr th:only-of-type {\n        vertical-align: middle;\n    }\n\n    .dataframe tbody tr th {\n        vertical-align: top;\n    }\n\n    .dataframe thead th {\n        text-align: right;\n    }\n</style>\n<table border=\"1\" class=\"dataframe\">\n  <thead>\n    <tr style=\"text-align: right;\">\n      <th></th>\n      <th>UniprotID</th>\n      <th>F1_score</th>\n      <th>Gene Prediction Program</th>\n    </tr>\n    <tr>\n      <th>NewFilename</th>\n      <th></th>\n      <th></th>\n      <th></th>\n    </tr>\n  </thead>\n  <tbody>\n    <tr>\n      <th>G3WML8_SARHA.augustus</th>\n      <td>G3WML8_SARHA</td>\n      <td>0.997</td>\n      <td>1</td>\n    </tr>\n    <tr>\n      <th>X6NC44_RETFI.augustus</th>\n      <td>X6NC44_RETFI</td>\n      <td>0.841</td>\n      <td>1</td>\n    </tr>\n    <tr>\n      <th>G3T3V8_LOXAF.augustus</th>\n      <td>G3T3V8_LOXAF</td>\n      <td>0.000</td>\n      <td>1</td>\n    </tr>\n    <tr>\n      <th>G3SRN0_LOXAF.augustus</th>\n      <td>G3SRN0_LOXAF</td>\n      <td>0.952</td>\n      <td>1</td>\n    </tr>\n    <tr>\n      <th>SDCG8_MOUSE.augustus</th>\n      <td>SDCG8_MOUSE</td>\n      <td>0.055</td>\n      <td>1</td>\n    </tr>\n    <tr>\n      <th>...</th>\n      <td>...</td>\n      <td>...</td>\n      <td>...</td>\n    </tr>\n    <tr>\n      <th>G1RZS0_NOMLE.snap</th>\n      <td>G1RZS0_NOMLE</td>\n      <td>0.000</td>\n      <td>5</td>\n    </tr>\n    <tr>\n      <th>I3LAV0_PIG.snap</th>\n      <td>I3LAV0_PIG</td>\n      <td>0.000</td>\n      <td>5</td>\n    </tr>\n    <tr>\n      <th>G3PLE4_GASAC.snap</th>\n      <td>G3PLE4_GASAC</td>\n      <td>0.870</td>\n      <td>5</td>\n    </tr>\n    <tr>\n      <th>G4VMY2_SCHMA.snap</th>\n      <td>G4VMY2_SCHMA</td>\n      <td>0.734</td>\n      <td>5</td>\n    </tr>\n    <tr>\n      <th>H2TTM2_TAKRU.snap</th>\n      <td>H2TTM2_TAKRU</td>\n      <td>0.000</td>\n      <td>5</td>\n    </tr>\n  </tbody>\n</table>\n<p>8965 rows × 3 columns</p>\n</div>",
      "text/plain": "                          UniprotID  F1_score  Gene Prediction Program\nNewFilename                                                           \nG3WML8_SARHA.augustus  G3WML8_SARHA     0.997                        1\nX6NC44_RETFI.augustus  X6NC44_RETFI     0.841                        1\nG3T3V8_LOXAF.augustus  G3T3V8_LOXAF     0.000                        1\nG3SRN0_LOXAF.augustus  G3SRN0_LOXAF     0.952                        1\nSDCG8_MOUSE.augustus    SDCG8_MOUSE     0.055                        1\n...                             ...       ...                      ...\nG1RZS0_NOMLE.snap      G1RZS0_NOMLE     0.000                        5\nI3LAV0_PIG.snap          I3LAV0_PIG     0.000                        5\nG3PLE4_GASAC.snap      G3PLE4_GASAC     0.870                        5\nG4VMY2_SCHMA.snap      G4VMY2_SCHMA     0.734                        5\nH2TTM2_TAKRU.snap      H2TTM2_TAKRU     0.000                        5\n\n[8965 rows x 3 columns]"
     },
     "execution_count": 121,
     "metadata": {},
     "output_type": "execute_result"
    }
   ],
   "source": [
    "df_DBSCANfile"
   ]
  },
  {
   "cell_type": "code",
   "execution_count": 125,
   "metadata": {},
   "outputs": [
    {
     "data": {
      "text/html": "<div>\n<style scoped>\n    .dataframe tbody tr th:only-of-type {\n        vertical-align: middle;\n    }\n\n    .dataframe tbody tr th {\n        vertical-align: top;\n    }\n\n    .dataframe thead th {\n        text-align: right;\n    }\n</style>\n<table border=\"1\" class=\"dataframe\">\n  <thead>\n    <tr style=\"text-align: right;\">\n      <th></th>\n      <th>Uniprot_ID</th>\n      <th>Specie_ID</th>\n      <th>Specie</th>\n      <th>Rank_1</th>\n      <th>Rank_2</th>\n      <th>Transcrit_ID</th>\n      <th>Gene_ID</th>\n      <th>Gene_length</th>\n      <th>%GC</th>\n      <th>Nbr_exon</th>\n      <th>...</th>\n      <th>Err_Nter</th>\n      <th>Err_Interne</th>\n      <th>Err_Cter</th>\n      <th>Type</th>\n      <th>Repeats/Low_complex</th>\n      <th>ity</th>\n      <th>UDT</th>\n      <th>Protein_length</th>\n      <th>5' UTR</th>\n      <th>3' UTR</th>\n    </tr>\n    <tr>\n      <th>BBS</th>\n      <th></th>\n      <th></th>\n      <th></th>\n      <th></th>\n      <th></th>\n      <th></th>\n      <th></th>\n      <th></th>\n      <th></th>\n      <th></th>\n      <th></th>\n      <th></th>\n      <th></th>\n      <th></th>\n      <th></th>\n      <th></th>\n      <th></th>\n      <th></th>\n      <th></th>\n      <th></th>\n      <th></th>\n    </tr>\n  </thead>\n  <tbody>\n    <tr>\n      <th>BBS4</th>\n      <td>BBS4_HUMAN</td>\n      <td>HUMAN</td>\n      <td>Homo sapiens</td>\n      <td>Opisthokonta</td>\n      <td>Metazoa</td>\n      <td>ENST00000268057</td>\n      <td>ENSG00000140463</td>\n      <td>52297</td>\n      <td>40.76</td>\n      <td>16</td>\n      <td>...</td>\n      <td>0</td>\n      <td>0</td>\n      <td>0</td>\n      <td>Confirmed</td>\n      <td>0</td>\n      <td>0</td>\n      <td>519</td>\n      <td>True</td>\n      <td>True</td>\n      <td>NaN</td>\n    </tr>\n    <tr>\n      <th>BBS16</th>\n      <td>SDCG8_HUMAN</td>\n      <td>HUMAN</td>\n      <td>Homo sapiens</td>\n      <td>Opisthokonta</td>\n      <td>Metazoa</td>\n      <td>ENST00000366541</td>\n      <td>ENSG00000054282</td>\n      <td>244058</td>\n      <td>39.81</td>\n      <td>18</td>\n      <td>...</td>\n      <td>0</td>\n      <td>0</td>\n      <td>0</td>\n      <td>Confirmed</td>\n      <td>0</td>\n      <td>0</td>\n      <td>713</td>\n      <td>True</td>\n      <td>True</td>\n      <td>NaN</td>\n    </tr>\n    <tr>\n      <th>BBS18</th>\n      <td>BBIP1_HUMAN</td>\n      <td>HUMAN</td>\n      <td>Homo sapiens</td>\n      <td>Opisthokonta</td>\n      <td>Metazoa</td>\n      <td>ENST00000423273</td>\n      <td>ENSG00000214413</td>\n      <td>20474</td>\n      <td>38.61</td>\n      <td>3</td>\n      <td>...</td>\n      <td>0</td>\n      <td>0</td>\n      <td>0</td>\n      <td>Confirmed</td>\n      <td>0</td>\n      <td>0</td>\n      <td>92</td>\n      <td>True</td>\n      <td>True</td>\n      <td>NaN</td>\n    </tr>\n    <tr>\n      <th>BBS6</th>\n      <td>MKKS_HUMAN</td>\n      <td>HUMAN</td>\n      <td>Homo sapiens</td>\n      <td>Opisthokonta</td>\n      <td>Metazoa</td>\n      <td>ENST00000347364</td>\n      <td>ENSG00000125863</td>\n      <td>33214</td>\n      <td>38.18</td>\n      <td>6</td>\n      <td>...</td>\n      <td>0</td>\n      <td>0</td>\n      <td>0</td>\n      <td>Confirmed</td>\n      <td>0</td>\n      <td>0</td>\n      <td>570</td>\n      <td>True</td>\n      <td>True</td>\n      <td>NaN</td>\n    </tr>\n    <tr>\n      <th>BBS2</th>\n      <td>BBS2_HUMAN</td>\n      <td>HUMAN</td>\n      <td>Homo sapiens</td>\n      <td>Opisthokonta</td>\n      <td>Metazoa</td>\n      <td>ENST00000245157</td>\n      <td>ENSG00000125124</td>\n      <td>53252</td>\n      <td>40.14</td>\n      <td>17</td>\n      <td>...</td>\n      <td>0</td>\n      <td>0</td>\n      <td>0</td>\n      <td>Confirmed</td>\n      <td>0</td>\n      <td>0</td>\n      <td>721</td>\n      <td>True</td>\n      <td>True</td>\n      <td>NaN</td>\n    </tr>\n    <tr>\n      <th>...</th>\n      <td>...</td>\n      <td>...</td>\n      <td>...</td>\n      <td>...</td>\n      <td>...</td>\n      <td>...</td>\n      <td>...</td>\n      <td>...</td>\n      <td>...</td>\n      <td>...</td>\n      <td>...</td>\n      <td>...</td>\n      <td>...</td>\n      <td>...</td>\n      <td>...</td>\n      <td>...</td>\n      <td>...</td>\n      <td>...</td>\n      <td>...</td>\n      <td>...</td>\n      <td>...</td>\n    </tr>\n    <tr>\n      <th>BBS9</th>\n      <td>R1FEM0_EMIHU</td>\n      <td>EMIHU</td>\n      <td>Emiliania huxleyi</td>\n      <td>Haptophyceae</td>\n      <td>Isochrysidales</td>\n      <td>EOD33941</td>\n      <td>EMIHUDRAFT_229033</td>\n      <td>2647</td>\n      <td>67.93</td>\n      <td>3</td>\n      <td>...</td>\n      <td>0</td>\n      <td>1</td>\n      <td>0</td>\n      <td>Unconfirmed</td>\n      <td>0</td>\n      <td>0</td>\n      <td>835</td>\n      <td>False</td>\n      <td>False</td>\n      <td>NaN</td>\n    </tr>\n    <tr>\n      <th>BBS8</th>\n      <td>R1DSD8_EMIHU</td>\n      <td>EMIHU</td>\n      <td>Emiliania huxleyi</td>\n      <td>Haptophyceae</td>\n      <td>Isochrysidales</td>\n      <td>EOD38017</td>\n      <td>EMIHUDRAFT_62866</td>\n      <td>1664</td>\n      <td>67.07</td>\n      <td>2</td>\n      <td>...</td>\n      <td>0</td>\n      <td>0</td>\n      <td>0</td>\n      <td>Confirmed</td>\n      <td>0</td>\n      <td>0</td>\n      <td>515</td>\n      <td>False</td>\n      <td>False</td>\n      <td>NaN</td>\n    </tr>\n    <tr>\n      <th>BBS4</th>\n      <td>V6LK23_9EUKA</td>\n      <td>9EUKA</td>\n      <td>Spironucleus salmonicida</td>\n      <td>Diplomonadida</td>\n      <td>Hexamitidae</td>\n      <td>EST44086</td>\n      <td>SS50377_16156</td>\n      <td>1248</td>\n      <td>41.59</td>\n      <td>1</td>\n      <td>...</td>\n      <td>1</td>\n      <td>3</td>\n      <td>1</td>\n      <td>Unconfirmed</td>\n      <td>0</td>\n      <td>0</td>\n      <td>415</td>\n      <td>False</td>\n      <td>False</td>\n      <td>NaN</td>\n    </tr>\n    <tr>\n      <th>BBS8</th>\n      <td>V6LQF6_9EUKA</td>\n      <td>9EUKA</td>\n      <td>Spironucleus salmonicida</td>\n      <td>Diplomonadida</td>\n      <td>Hexamitidae</td>\n      <td>EST46902</td>\n      <td>SS50377_13055</td>\n      <td>1515</td>\n      <td>49.70</td>\n      <td>1</td>\n      <td>...</td>\n      <td>0</td>\n      <td>5</td>\n      <td>0</td>\n      <td>Unconfirmed</td>\n      <td>0</td>\n      <td>0</td>\n      <td>504</td>\n      <td>False</td>\n      <td>False</td>\n      <td>NaN</td>\n    </tr>\n    <tr>\n      <th>BBS5</th>\n      <td>V6LPV3_9EUKA</td>\n      <td>9EUKA</td>\n      <td>Spironucleus salmonicida</td>\n      <td>Diplomonadida</td>\n      <td>Hexamitidae</td>\n      <td>EST42784</td>\n      <td>SS50377_17552</td>\n      <td>1083</td>\n      <td>37.12</td>\n      <td>1</td>\n      <td>...</td>\n      <td>0</td>\n      <td>3</td>\n      <td>0</td>\n      <td>Unconfirmed</td>\n      <td>0</td>\n      <td>0</td>\n      <td>360</td>\n      <td>False</td>\n      <td>False</td>\n      <td>NaN</td>\n    </tr>\n  </tbody>\n</table>\n<p>1793 rows × 23 columns</p>\n</div>",
      "text/plain": "         Uniprot_ID Specie_ID                    Specie         Rank_1  \\\nBBS                                                                      \nBBS4     BBS4_HUMAN     HUMAN              Homo sapiens   Opisthokonta   \nBBS16   SDCG8_HUMAN     HUMAN              Homo sapiens   Opisthokonta   \nBBS18   BBIP1_HUMAN     HUMAN              Homo sapiens   Opisthokonta   \nBBS6     MKKS_HUMAN     HUMAN              Homo sapiens   Opisthokonta   \nBBS2     BBS2_HUMAN     HUMAN              Homo sapiens   Opisthokonta   \n...             ...       ...                       ...            ...   \nBBS9   R1FEM0_EMIHU     EMIHU         Emiliania huxleyi   Haptophyceae   \nBBS8   R1DSD8_EMIHU     EMIHU         Emiliania huxleyi   Haptophyceae   \nBBS4   V6LK23_9EUKA     9EUKA  Spironucleus salmonicida  Diplomonadida   \nBBS8   V6LQF6_9EUKA     9EUKA  Spironucleus salmonicida  Diplomonadida   \nBBS5   V6LPV3_9EUKA     9EUKA  Spironucleus salmonicida  Diplomonadida   \n\n               Rank_2     Transcrit_ID            Gene_ID  Gene_length    %GC  \\\nBBS                                                                             \nBBS4          Metazoa  ENST00000268057    ENSG00000140463        52297  40.76   \nBBS16         Metazoa  ENST00000366541    ENSG00000054282       244058  39.81   \nBBS18         Metazoa  ENST00000423273    ENSG00000214413        20474  38.61   \nBBS6          Metazoa  ENST00000347364    ENSG00000125863        33214  38.18   \nBBS2          Metazoa  ENST00000245157    ENSG00000125124        53252  40.14   \n...               ...              ...                ...          ...    ...   \nBBS9   Isochrysidales         EOD33941  EMIHUDRAFT_229033         2647  67.93   \nBBS8   Isochrysidales         EOD38017   EMIHUDRAFT_62866         1664  67.07   \nBBS4      Hexamitidae         EST44086      SS50377_16156         1248  41.59   \nBBS8      Hexamitidae         EST46902      SS50377_13055         1515  49.70   \nBBS5      Hexamitidae         EST42784      SS50377_17552         1083  37.12   \n\n       Nbr_exon  ...  Err_Nter  Err_Interne  Err_Cter         Type  \\\nBBS              ...                                                 \nBBS4         16  ...         0            0         0    Confirmed   \nBBS16        18  ...         0            0         0    Confirmed   \nBBS18         3  ...         0            0         0    Confirmed   \nBBS6          6  ...         0            0         0    Confirmed   \nBBS2         17  ...         0            0         0    Confirmed   \n...         ...  ...       ...          ...       ...          ...   \nBBS9          3  ...         0            1         0  Unconfirmed   \nBBS8          2  ...         0            0         0    Confirmed   \nBBS4          1  ...         1            3         1  Unconfirmed   \nBBS8          1  ...         0            5         0  Unconfirmed   \nBBS5          1  ...         0            3         0  Unconfirmed   \n\n       Repeats/Low_complex  ity  UDT  Protein_length  5' UTR  3' UTR  \nBBS                                                                   \nBBS4                     0    0  519            True    True     NaN  \nBBS16                    0    0  713            True    True     NaN  \nBBS18                    0    0   92            True    True     NaN  \nBBS6                     0    0  570            True    True     NaN  \nBBS2                     0    0  721            True    True     NaN  \n...                    ...  ...  ...             ...     ...     ...  \nBBS9                     0    0  835           False   False     NaN  \nBBS8                     0    0  515           False   False     NaN  \nBBS4                     0    0  415           False   False     NaN  \nBBS8                     0    0  504           False   False     NaN  \nBBS5                     0    0  360           False   False     NaN  \n\n[1793 rows x 23 columns]"
     },
     "execution_count": 125,
     "metadata": {},
     "output_type": "execute_result"
    }
   ],
   "source": [
    "df_G3PO = pd.read_csv('G3PO.csv', index_col=0)\n",
    "df_G3PO"
   ]
  },
  {
   "cell_type": "code",
   "execution_count": 129,
   "metadata": {},
   "outputs": [],
   "source": [
    "list_of_percent_gc_content = []\n",
    "for i in df_DBSCANfile['UniprotID']:\n",
    "    for x in df_G3PO['Uniprot_ID']:\n",
    "        if i == x:\n",
    "            list_of_percent_gc_content.append(df_G3PO.loc[df_G3PO.Uniprot_ID==i,'%GC'])"
   ]
  },
  {
   "cell_type": "code",
   "execution_count": 131,
   "metadata": {},
   "outputs": [],
   "source": [
    "list_practice = list_of_percent_gc_content.copy()"
   ]
  },
  {
   "cell_type": "code",
   "execution_count": 134,
   "metadata": {},
   "outputs": [
    {
     "data": {
      "text/plain": "[['11', '51.77', '64'],\n ['1', '34.92', '64'],\n ['7', '36.02', '64'],\n ['8', '38.43', '64'],\n ['16', '42.66', '64'],\n ['8', '63.13', '64'],\n ['17', '39.27', '64'],\n ['3', '44.09', '64'],\n ['2', '31.13', '64'],\n ['4', '29.72', '64'],\n ['17', '62.26', '64'],\n ['13', '64.04', '64'],\n ['1', '39.76', '64'],\n ['19', '56.68', '64'],\n ['5', '60.43', '64'],\n ['20', '40.6', '64'],\n ['5', '40.98', '64'],\n ['5', '31.88', '64'],\n ['4', '46.48', '64'],\n ['4', '45.42', '64'],\n ['4', '38.83', '64'],\n ['2', '36.14', '64'],\n ['2', '31.88', '64'],\n ['6', '38.42', '64'],\n ['18', '40.18', '64'],\n ['11', '57.71', '64'],\n ['2', '41.19', '64'],\n ['4', '38.6', '64'],\n ['3', '49.53', '64'],\n ['4', '41.68', '64'],\n ['1', '63.13', '64'],\n ['16', '44.48', '64'],\n ['13', '47.93', '64'],\n ['19', '48.08', '64'],\n ['4', '62.87', '64'],\n ['9', '31.69', '64'],\n ['12', '40.51', '64'],\n ['20', '37.52', '64'],\n ['20', '37.51', '64'],\n ['16', '36.83', '64'],\n ['15', '33.78', '64'],\n ['3', '39.25', '64'],\n ['2', '35.34', '64'],\n ['12', '41.16', '64'],\n ['1', '51.62', '64'],\n ['17', '43.41', '64'],\n ['20', '58.43', '64'],\n ['4', '50.06', '64'],\n ['9', '48.69', '64'],\n ['4', '64.4', '64'],\n ['17', '42.31', '64'],\n ['20', '35.6', '64'],\n ['1', '47.54', '64'],\n ['13', '49.63', '64'],\n ['15', '37.35', '64'],\n ['12', '39.48', '64'],\n ['9', '41.32', '64'],\n ['16', '39.81', '64'],\n ['15', '51.48', '64'],\n ['17', '62.6', '64'],\n ['17', '36.27', '64'],\n ['4', '60.93', '64'],\n ['18', '31.31', '64'],\n ['9', '48.91', '64'],\n ['7', '42.36', '64'],\n ['15', '37.27', '64'],\n ['7', '35.64', '64'],\n ['4', '56.47', '64'],\n ['15', '36.91', '64'],\n ['3', '46.31', '64'],\n ['4', '34.89', '64'],\n ['21', '47.24', '64'],\n ['15', '39.04', '64'],\n ['12', '40.01', '64'],\n ['7', '53.89', '64'],\n ['9', '49.16', '64'],\n ['9', '37.66', '64'],\n ['5', '54.81', '64'],\n ['3', '34.74', '64'],\n ['2', '32.35', '64'],\n ['8', '33.97', '64'],\n ['18', '37.35', '64'],\n ['7', '55.24', '64'],\n ['20', '55.56', '64'],\n ['19', '40.43', '64'],\n ['8', '50.6', '64'],\n ['1', '50.12', '64'],\n ['5', '35.19', '64'],\n ['4', '53.79', '64'],\n ['9', '51.41', '64'],\n ['1', '49.77', '64'],\n ['7', '37.45', '64'],\n ['1', '44.8', '64'],\n ['5', '64.18', '64'],\n ['4', '40.57', '64'],\n ['11', '58.53', '64'],\n ['9', '56.55', '64'],\n ['5', '42.48', '64'],\n ['11', '58.85', '64'],\n ['11', '59.99', '64'],\n ['4', '37.44', '64'],\n ['3', '40.0', '64'],\n ['16', '40.76', '64'],\n ['20', '52.45', '64'],\n ['9', '50.17', '64'],\n ['15', '40.16', '64'],\n ['2', '39.4', '64'],\n ['13', '48.78', '64'],\n ['15', '35.14', '64'],\n ['9', '36.13', '64'],\n ['5', '38.09', '64'],\n ['1', '35.65', '64'],\n ['5', '37.0', '64'],\n ['16', '39.81', '64'],\n ['13', '49.98', '64'],\n ['18', '58.16', '64'],\n ['3', '63.59', '64'],\n ['11', '43.3', '64'],\n ['10', '41.11', '64'],\n ['8', '38.69', '64'],\n ['5', '49.83', '64'],\n ['13', '35.21', '64'],\n ['4', '26.92', '64'],\n ['1', '32.51', '64'],\n ['3', '47.37', '64'],\n ['10', '35.8', '64'],\n ['21', '39.23', '64'],\n ['3', '24.28', '64'],\n ['5', '61.61', '64'],\n ['16', '35.63', '64'],\n ['8', '51.66', '64'],\n ['21', '36.88', '64'],\n ['20', '47.69', '64'],\n ['20', '35.47', '64'],\n ['5', '36.91', '64'],\n ['6', '41.74', '64'],\n ['15', '39.3', '64'],\n ['2', '62.65', '64'],\n ['7', '38.27', '64'],\n ['17', '31.33', '64'],\n ['9', '44.47', '64'],\n ['7', '51.3', '64'],\n ['8', '46.35', '64'],\n ['1', '52.27', '64'],\n ['20', '37.38', '64'],\n ['19', '49.07', '64'],\n ['19', '32.68', '64'],\n ['11', '46.89', '64'],\n ['15', '32.29', '64'],\n ['21', '65.5', '64'],\n ['8', '36.37', '64'],\n ['5', '61.63', '64'],\n ['13', '47.46', '64'],\n ['8', '40.15', '64'],\n ['9', '49.67', '64'],\n ['21', '37.79', '64'],\n ['20', '19.72', '64'],\n ['17', '42.98', '64'],\n ['1', '52.73', '64'],\n ['3', '32.7', '64'],\n ['2', '35.9', '64'],\n ['5', '29.1', '64'],\n ['8', '56.15', '64'],\n ['1', '54.71', '64'],\n ['19', '50.58', '64'],\n ['13', '48.57', '64'],\n ['20', '45.13', '64'],\n ['4', '50.53', '64'],\n ['12', '51.0', '64'],\n ['5', '36.09', '64'],\n ['10', '41.16', '64'],\n ['11', '46.19', '64'],\n ['4', '58.04', '64'],\n ['3', '43.39', '64'],\n ['7', '19.41', '64'],\n ['19', '36.37', '64'],\n ['2', '37.5', '64'],\n ['20', '46.32', '64'],\n ['20', '55.76', '64'],\n ['9', '58.82', '64'],\n ['17', '43.47', '64'],\n ['21', '33.16', '64'],\n ['15', '50.24', '64'],\n ['3', '53.73', '64'],\n ['3', '46.38', '64'],\n ['2', '39.01', '64'],\n ['13', '37.09', '64'],\n ['9', '36.8', '64'],\n ['20', '34.17', '64'],\n ['18', '36.25', '64'],\n ['4', '36.37', '64'],\n ['2', '38.49', '64'],\n ['3', '33.17', '64'],\n ['15', '38.09', '64'],\n ['21', '36.65', '64'],\n ['7', '31.1', '64'],\n ['5', '60.35', '64'],\n ['3', '51.42', '64'],\n ['20', '36.35', '64'],\n ['3', '56.28', '64'],\n ['5', '32.47', '64'],\n ['9', '37.62', '64'],\n ['21', '33.33', '64'],\n ['20', '66.67', '64'],\n ['13', '48.08', '64'],\n ['8', '51.75', '64'],\n ['2', '43.32', '64'],\n ['7', '51.8', '64'],\n ['9', '54.95', '64'],\n ['13', '50.55', '64'],\n ['9', '28.0', '64'],\n ['1', '49.04', '64'],\n ['7', '40.14', '64'],\n ['3', '36.83', '64'],\n ['1', '45.47', '64'],\n ['5', '45.57', '64'],\n ['17', '38.56', '64'],\n ['2', '66.16', '64'],\n ['1', '53.0', '64'],\n ['7', '35.16', '64'],\n ['4', '40.95', '64'],\n ['15', '36.59', '64'],\n ['5', '38.33', '64'],\n ['4', '33.41', '64'],\n ['12', '40.9', '64'],\n ['3', '41.08', '64'],\n ['5', '57.8', '64'],\n ['17', '23.97', '64'],\n ['3', '53.26', '64'],\n ['13', '32.06', '64'],\n ['12', '42.41', '64'],\n ['6', '33.69', '64'],\n ['21', '35.65', '64'],\n ['7', '32.73', '64'],\n ['4', '42.56', '64'],\n ['9', '38.47', '64'],\n ['3', '23.2', '64'],\n ['6', '38.73', '64'],\n ['17', '56.93', '64'],\n ['3', '41.07', '64'],\n ['17', '36.04', '64'],\n ['13', '47.22', '64'],\n ['5', '38.88', '64'],\n ['2', '61.96', '64'],\n ['8', '41.9', '64'],\n ['15', '39.39', '64'],\n ['2', '45.11', '64'],\n ['15', '54.86', '64'],\n ['5', '34.81', '64'],\n ['13', '48.3', '64'],\n ['1', '46.68', '64'],\n ['19', '56.15', '64'],\n ['20', '61.49', '64'],\n ['2', '39.36', '64'],\n ['8', '36.71', '64'],\n ['4', '69.94', '64'],\n ['5', '40.21', '64'],\n ['8', '59.12', '64'],\n ['19', '50.05', '64'],\n ['3', '37.23', '64'],\n ['9', '24.26', '64'],\n ['10', '39.19', '64'],\n ['18', '38.58', '64'],\n ['21', '38.06', '64'],\n ['4', '43.7', '64'],\n ['2', '51.38', '64'],\n ['2', '44.57', '64'],\n ['9', '32.0', '64'],\n ['11', '54.28', '64'],\n ['4', '40.73', '64'],\n ['12', '40.66', '64'],\n ['8', '36.02', '64'],\n ['5', '47.77', '64'],\n ['1', '48.75', '64'],\n ['13', '62.81', '64'],\n ['1', '25.82', '64'],\n ['5', '39.94', '64'],\n ['16', '37.4', '64'],\n ['1', '35.71', '64'],\n ['5', '29.45', '64'],\n ['5', '39.61', '64'],\n ['3', '45.09', '64'],\n ['20', '61.56', '64'],\n ['5', '55.35', '64'],\n ['21', '40.38', '64'],\n ['13', '47.09', '64'],\n ['7', '44.98', '64'],\n ['21', '45.37', '64'],\n ['6', '53.7', '64'],\n ['9', '39.1', '64'],\n ['9', '34.85', '64'],\n ['5', '20.15', '64'],\n ['5', '43.59', '64'],\n ['16', '41.38', '64'],\n ['13', '41.49', '64'],\n ['2', '37.57', '64'],\n ['19', '30.58', '64'],\n ['15', '43.15', '64'],\n ['16', '49.25', '64'],\n ['15', '32.96', '64'],\n ['18', '37.01', '64'],\n ['8', '38.84', '64'],\n ['11', '47.18', '64'],\n ['5', '38.46', '64'],\n ['1', '53.23', '64'],\n ['5', '37.78', '64'],\n ['2', '44.92', '64'],\n ['5', '58.33', '64'],\n ['19', '40.18', '64'],\n ['13', '53.24', '64'],\n ['19', '53.25', '64'],\n ['12', '41.0', '64'],\n ['8', '60.44', '64'],\n ['16', '42.18', '64'],\n ['5', '35.37', '64'],\n ['20', '33.0', '64'],\n ['20', '20.02', '64'],\n ['10', '37.35', '64'],\n ['1', '42.74', '64'],\n ['7', '28.4', '64'],\n ['7', '36.42', '64'],\n ['20', '44.97', '64'],\n ['7', '40.94', '64'],\n ['4', '34.76', '64'],\n ['5', '27.06', '64'],\n ['3', '56.74', '64'],\n ['19', '54.3', '64'],\n ['11', '54.49', '64'],\n ['4', '52.22', '64'],\n ['6', '37.15', '64'],\n ['9', '49.64', '64'],\n ['21', '35.2', '64'],\n ['16', '43.33', '64'],\n ['6', '52.51', '64'],\n ['20', '31.42', '64'],\n ['17', '55.21', '64'],\n ['12', '37.61', '64'],\n ['5', '40.63', '64'],\n ['9', '53.44', '64'],\n ['19', '47.42', '64'],\n ['18', '38.74', '64'],\n ['11', '49.17', '64'],\n ['16', '39.59', '64'],\n ['9', '56.62', '64'],\n ['10', '39.71', '64'],\n ['9', '61.75', '64'],\n ['21', '40.43', '64'],\n ['4', '53.51', '64'],\n ['5', '54.77', '64'],\n ['2', '27.45', '64'],\n ['4', '61.63', '64'],\n ['16', '36.58', '64'],\n ['16', '46.24', '64'],\n ['20', '46.97', '64'],\n ['1', '41.6', '64'],\n ['20', '35.47', '64'],\n ['15', '32.03', '64'],\n ['15', '37.34', '64'],\n ['3', '36.94', '64'],\n ['8', '36.8', '64'],\n ['7', '40.3', '64'],\n ['2', '40.67', '64'],\n ['12', '44.02', '64'],\n ['8', '50.38', '64'],\n ['21', '41.35', '64'],\n ['20', '38.7', '64'],\n ['2', '20.8', '64'],\n ['15', '47.13', '64'],\n ['16', '35.12', '64'],\n ['20', '63.17', '64'],\n ['7', '36.02', '64'],\n ['20', '51.04', '64'],\n ['11', '41.89', '64'],\n ['7', '54.47', '64'],\n ['9', '35.83', '64'],\n ['2', '55.71', '64'],\n ['20', '36.31', '64'],\n ['18', '31.43', '64'],\n ['20', '54.22', '64'],\n ['6', '51.66', '64'],\n ['15', '50.11', '64'],\n ['17', '58.73', '64'],\n ['13', '45.51', '64'],\n ['2', '60.92', '64'],\n ['13', '36.36', '64'],\n ['10', '52.16', '64'],\n ['11', '50.44', '64'],\n ['20', '59.24', '64'],\n ['21', '57.27', '64'],\n ['7', '52.89', '64'],\n ['8', '35.89', '64'],\n ['16', '35.59', '64'],\n ['8', '35.18', '64'],\n ['13', '53.28', '64'],\n ['6', '37.22', '64'],\n ['8', '35.46', '64'],\n ['19', '32.59', '64'],\n ['1', '49.59', '64'],\n ['19', '47.03', '64'],\n ['3', '43.84', '64'],\n ['7', '41.49', '64'],\n ['1', '54.69', '64'],\n ['5', '42.81', '64'],\n ['3', '35.5', '64'],\n ['8', '39.38', '64'],\n ['8', '30.59', '64'],\n ['18', '45.81', '64'],\n ['3', '48.75', '64'],\n ['17', '36.43', '64'],\n ['8', '57.32', '64'],\n ['8', '63.71', '64'],\n ['19', '47.42', '64'],\n ['9', '63.02', '64'],\n ['11', '54.74', '64'],\n ['9', '57.36', '64'],\n ['7', '54.92', '64'],\n ['8', '28.34', '64'],\n ['6', '56.32', '64'],\n ['11', '56.12', '64'],\n ['4', '34.8', '64'],\n ['7', '40.05', '64'],\n ['2', '53.3', '64'],\n ['13', '41.47', '64'],\n ['3', '37.98', '64'],\n ['15', '38.31', '64'],\n ['3', '39.98', '64'],\n ['20', '55.45', '64'],\n ['7', '30.32', '64'],\n ['9', '33.41', '64'],\n ['8', '32.41', '64'],\n ['9', '36.76', '64'],\n ['9', '49.91', '64'],\n ['20', '40.99', '64'],\n ['18', '39.03', '64'],\n ['1', '57.62', '64'],\n ['1', '53.65', '64'],\n ['21', '37.25', '64'],\n ['1', '48.72', '64'],\n ['7', '36.06', '64'],\n ['7', '60.0', '64'],\n ['5', '23.44', '64'],\n ['4', '51.67', '64'],\n ['20', '60.89', '64'],\n ['17', '34.92', '64'],\n ['5', '56.81', '64'],\n ['9', '35.03', '64'],\n ['13', '34.84', '64'],\n ['9', '36.16', '64'],\n ['10', '46.56', '64'],\n ['8', '38.84', '64'],\n ['6', '45.58', '64'],\n ['13', '37.4', '64'],\n ['8', '32.11', '64'],\n ['16', '39.97', '64'],\n ['17', '30.32', '64'],\n ['9', '54.0', '64'],\n ['20', '55.12', '64'],\n ['8', '60.73', '64'],\n ['4', '43.13', '64'],\n ['4', '53.79', '64'],\n ['9', '54.44', '64'],\n ['18', '43.22', '64'],\n ['5', '37.64', '64'],\n ['2', '57.03', '64'],\n ['18', '36.97', '64'],\n ['13', '60.76', '64'],\n ['4', '42.12', '64'],\n ['20', '36.17', '64'],\n ['17', '62.79', '64'],\n ['12', '37.49', '64'],\n ['8', '56.08', '64'],\n ['8', '35.8', '64'],\n ['20', '46.96', '64'],\n ['5', '51.96', '64'],\n ['5', '62.27', '64'],\n ['7', '39.97', '64'],\n ['16', '40.19', '64'],\n ['9', '37.79', '64'],\n ['4', '44.09', '64'],\n ['5', '47.55', '64'],\n ['9', '33.84', '64'],\n ['2', '41.41', '64'],\n ['20', '37.5', '64'],\n ['8', '55.66', '64'],\n ['9', '47.62', '64'],\n ['20', '37.41', '64'],\n ['17', '50.4', '64'],\n ['17', '38.9', '64'],\n ['4', '23.94', '64'],\n ['8', '53.81', '64'],\n ['15', '37.27', '64'],\n ['1', '49.87', '64'],\n ['1', '41.76', '64'],\n ['9', '33.05', '64'],\n ['3', '48.84', '64'],\n ['9', '66.44', '64'],\n ['10', '39.51', '64'],\n ['8', '37.13', '64'],\n ['7', '70.54', '64'],\n ['6', '35.11', '64'],\n ['20', '51.53', '64'],\n ['5', '52.99', '64'],\n ['19', '52.51', '64'],\n ['15', '36.01', '64'],\n ['20', '40.9', '64'],\n ['18', '37.25', '64'],\n ['10', '40.99', '64'],\n ['16', '41.43', '64'],\n ['5', '50.26', '64'],\n ['9', '53.54', '64'],\n ['1', '38.1', '64'],\n ['20', '35.8', '64'],\n ['6', '33.94', '64'],\n ['5', '53.64', '64'],\n ['7', '53.21', '64'],\n ['4', '44.12', '64'],\n ['1', '48.46', '64'],\n ['15', '38.03', '64'],\n ['7', '35.98', '64'],\n ['19', '51.34', '64'],\n ['4', '41.93', '64'],\n ['5', '33.42', '64'],\n ['7', '32.18', '64'],\n ['4', '52.94', '64'],\n ['7', '34.66', '64'],\n ['15', '52.81', '64'],\n ['19', '33.19', '64'],\n ['5', '41.72', '64'],\n ['1', '49.46', '64'],\n ['8', '21.83', '64'],\n ['11', '60.14', '64'],\n ['16', '28.17', '64'],\n ['13', '47.17', '64'],\n ['9', '24.91', '64'],\n ['6', '36.49', '64'],\n ['12', '42.61', '64'],\n ['8', '38.36', '64'],\n ['17', '46.94', '64'],\n ['1', '37.18', '64'],\n ['12', '39.8', '64'],\n ['9', '49.74', '64'],\n ['5', '56.35', '64'],\n ['18', '41.1', '64'],\n ['8', '36.83', '64'],\n ['6', '39.41', '64'],\n ['7', '57.98', '64'],\n ['6', '37.3', '64'],\n ['7', '52.83', '64'],\n ['1', '50.12', '64'],\n ['4', '65.03', '64'],\n ['20', '40.33', '64'],\n ['3', '47.34', '64'],\n ['7', '31.2', '64'],\n ['20', '54.46', '64'],\n ['20', '23.29', '64'],\n ['8', '56.54', '64'],\n ['1', '50.08', '64'],\n ['19', '38.23', '64'],\n ['1', '47.45', '64'],\n ['5', '52.53', '64'],\n ['15', '52.68', '64'],\n ['18', '28.39', '64'],\n ['20', '37.04', '64'],\n ['16', '46.41', '64'],\n ['16', '39.91', '64'],\n ['5', '49.93', '64'],\n ['2', '41.17', '64'],\n ['5', '34.17', '64'],\n ['21', '35.69', '64'],\n ['1', '44.74', '64'],\n ['4', '31.07', '64'],\n ['13', '31.5', '64'],\n ['11', '37.09', '64'],\n ['13', '39.39', '64'],\n ['20', '46.95', '64'],\n ['16', '37.23', '64'],\n ['2', '32.88', '64'],\n ['20', '45.3', '64'],\n ['19', '44.51', '64'],\n ['8', '65.37', '64'],\n ['8', '42.89', '64'],\n ['3', '47.52', '64'],\n ['4', '40.31', '64'],\n ['9', '58.38', '64'],\n ['2', '54.74', '64'],\n ['1', '31.87', '64'],\n ['7', '37.34', '64'],\n ['17', '63.8', '64'],\n ['16', '41.54', '64'],\n ['7', '34.04', '64'],\n ['12', '39.87', '64'],\n ['8', '46.71', '64'],\n ['19', '47.36', '64'],\n ['7', '60.81', '64'],\n ['19', '52.36', '64'],\n ['13', '39.94', '64'],\n ['20', '60.59', '64'],\n ['8', '49.77', '64'],\n ['18', '37.65', '64'],\n ['13', '56.31', '64'],\n ['17', '41.86', '64'],\n ['7', '63.05', '64'],\n ['13', '35.25', '64'],\n ['12', '38.11', '64'],\n ['2', '55.64', '64'],\n ['4', '40.88', '64'],\n ['2', '51.07', '64'],\n ['5', '61.02', '64'],\n ['3', '34.78', '64'],\n ['5', '33.4', '64'],\n ['7', '37.15', '64'],\n ['1', '54.61', '64'],\n ['17', '57.77', '64'],\n ['8', '40.35', '64'],\n ['21', '37.31', '64'],\n ['7', '54.61', '64'],\n ['11', '49.28', '64'],\n ['7', '56.7', '64'],\n ['8', '35.79', '64'],\n ['12', '47.63', '64'],\n ['18', '38.61', '64'],\n ['8', '60.95', '64'],\n ['17', '32.39', '64'],\n ['21', '59.7', '64'],\n ['4', '36.24', '64'],\n ['12', '39.32', '64'],\n ['7', '44.7', '64'],\n ['19', '35.8', '64'],\n ['19', '47.25', '64'],\n ['13', '58.0', '64'],\n ['8', '32.8', '64'],\n ['21', '37.39', '64'],\n ['20', '38.44', '64'],\n ['21', '35.66', '64'],\n ['1', '46.52', '64'],\n ['8', '43.47', '64'],\n ['1', '48.15', '64'],\n ['1', '40.7', '64'],\n ['2', '39.48', '64'],\n ['15', '31.09', '64'],\n ['13', '39.67', '64'],\n ['7', '53.28', '64'],\n ['13', '47.69', '64'],\n ['19', '54.03', '64'],\n ['19', '55.41', '64'],\n ['9', '36.67', '64'],\n ['9', '41.34', '64'],\n ['20', '32.48', '64'],\n ['6', '44.15', '64'],\n ['17', '31.83', '64'],\n ['8', '31.7', '64'],\n ['15', '37.44', '64'],\n ['7', '26.7', '64'],\n ['9', '42.2', '64'],\n ['20', '55.7', '64'],\n ['21', '42.3', '64'],\n ['2', '39.6', '64'],\n ['9', '36.41', '64'],\n ['12', '33.98', '64'],\n ['10', '43.79', '64'],\n ['4', '56.48', '64'],\n ['5', '42.33', '64'],\n ['19', '51.2', '64'],\n ['9', '36.57', '64'],\n ['2', '46.45', '64'],\n ['19', '32.67', '64'],\n ['2', '45.61', '64'],\n ['10', '39.73', '64'],\n ['20', '38.68', '64'],\n ['19', '21.24', '64'],\n ['8', '38.04', '64'],\n ['1', '50.19', '64'],\n ['20', '59.96', '64'],\n ['15', '35.61', '64'],\n ['3', '58.0', '64'],\n ['2', '32.74', '64'],\n ['15', '38.58', '64'],\n ['11', '38.43', '64'],\n ['17', '35.16', '64'],\n ['20', '57.75', '64'],\n ['8', '41.93', '64'],\n ['3', '36.02', '64'],\n ['5', '41.82', '64'],\n ['3', '56.47', '64'],\n ['4', '60.06', '64'],\n ['7', '34.85', '64'],\n ['7', '38.97', '64'],\n ['15', '37.41', '64'],\n ['17', '39.3', '64'],\n ['8', '35.4', '64'],\n ['13', '54.35', '64'],\n ['3', '57.34', '64'],\n ['3', '39.94', '64'],\n ['1', '59.19', '64'],\n ['9', '34.55', '64'],\n ['13', '45.23', '64'],\n ['19', '63.48', '64'],\n ['13', '49.52', '64'],\n ['21', '53.9', '64'],\n ['9', '36.62', '64'],\n ['19', '44.76', '64'],\n ['9', '48.13', '64'],\n ['4', '29.13', '64'],\n ['3', '48.0', '64'],\n ['19', '46.5', '64'],\n ['5', '37.79', '64'],\n ['5', '26.73', '64'],\n ['8', '43.66', '64'],\n ['21', '32.63', '64'],\n ['13', '35.22', '64'],\n ['1', '48.66', '64'],\n ['6', '37.03', '64'],\n ['3', '35.31', '64'],\n ['17', '30.62', '64'],\n ['17', '32.08', '64'],\n ['19', '61.8', '64'],\n ['5', '51.87', '64'],\n ['6', '39.72', '64'],\n ['2', '53.91', '64'],\n ['2', '39.57', '64'],\n ['1', '60.17', '64'],\n ['9', '38.88', '64'],\n ['7', '39.39', '64'],\n ['19', '50.53', '64'],\n ['19', '51.18', '64'],\n ['8', '64.36', '64'],\n ['8', '39.58', '64'],\n ['11', '49.13', '64'],\n ['9', '37.34', '64'],\n ['17', '24.92', '64'],\n ['20', '62.67', '64'],\n ['7', '57.76', '64'],\n ['19', '49.11', '64'],\n ['1', '52.68', '64'],\n ['7', '48.17', '64'],\n ['19', '52.6', '64'],\n ['2', '55.16', '64'],\n ['18', '39.18', '64'],\n ['13', '40.15', '64'],\n ['7', '53.12', '64'],\n ['13', '50.2', '64'],\n ['18', '48.25', '64'],\n ['20', '26.98', '64'],\n ['15', '48.49', '64'],\n ['8', '42.14', '64'],\n ['8', '34.51', '64'],\n ['12', '41.89', '64'],\n ['3', '53.3', '64'],\n ['6', '40.88', '64'],\n ['12', '44.63', '64'],\n ['17', '38.82', '64'],\n ['17', '47.35', '64'],\n ['13', '50.37', '64'],\n ['5', '54.72', '64'],\n ['5', '37.53', '64'],\n ['1', '16.17', '64'],\n ['5', '63.05', '64'],\n ['3', '55.54', '64'],\n ['1', '45.73', '64'],\n ['8', '50.84', '64'],\n ['9', '53.57', '64'],\n ['16', '49.25', '64'],\n ['7', '38.97', '64'],\n ['2', '52.43', '64'],\n ['13', '24.3', '64'],\n ['19', '55.26', '64'],\n ['15', '34.63', '64'],\n ['1', '27.44', '64'],\n ['3', '58.77', '64'],\n ['21', '42.87', '64'],\n ['13', '45.82', '64'],\n ['21', '39.38', '64'],\n ['15', '37.81', '64'],\n ['3', '50.78', '64'],\n ['7', '37.07', '64'],\n ['1', '33.89', '64'],\n ['8', '37.15', '64'],\n ['5', '38.35', '64'],\n ['20', '34.57', '64'],\n ['8', '43.65', '64'],\n ['3', '24.1', '64'],\n ['8', '36.58', '64'],\n ['1', '64.14', '64'],\n ['8', '64.32', '64'],\n ['5', '51.38', '64'],\n ['19', '52.91', '64'],\n ['6', '37.79', '64'],\n ['20', '56.17', '64'],\n ['13', '30.28', '64'],\n ['19', '56.17', '64'],\n ['5', '50.53', '64'],\n ['2', '31.59', '64'],\n ['2', '37.68', '64'],\n ['6', '42.19', '64'],\n ['3', '38.76', '64'],\n ['17', '59.01', '64'],\n ['4', '42.56', '64'],\n ['11', '54.59', '64'],\n ['20', '57.72', '64'],\n ['18', '36.34', '64'],\n ['2', '24.98', '64'],\n ['5', '40.8', '64'],\n ['17', '32.98', '64'],\n ['4', '37.88', '64'],\n ['2', '25.48', '64'],\n ['21', '37.78', '64'],\n ['5', '27.31', '64'],\n ['1', '52.84', '64'],\n ['7', '21.17', '64'],\n ['10', '41.11', '64'],\n ['12', '39.29', '64'],\n ['4', '52.12', '64'],\n ['4', '56.83', '64'],\n ['13', '63.41', '64'],\n ['9', '38.05', '64'],\n ['9', '35.25', '64'],\n ['8', '57.96', '64'],\n ['6', '36.69', '64'],\n ['9', '34.67', '64'],\n ['5', '65.89', '64'],\n ['2', '63.0', '64'],\n ['20', '58.9', '64'],\n ['7', '35.8', '64'],\n ['13', '50.79', '64'],\n ['9', '46.74', '64'],\n ['4', '33.81', '64'],\n ['2', '37.86', '64'],\n ['20', '35.48', '64'],\n ['7', '53.66', '64'],\n ['13', '36.91', '64'],\n ['13', '33.69', '64'],\n ['4', '44.18', '64'],\n ['4', '34.25', '64'],\n ['20', '37.58', '64'],\n ['10', '39.91', '64'],\n ['3', '36.31', '64'],\n ['15', '36.62', '64'],\n ['9', '53.41', '64'],\n ['16', '38.73', '64'],\n ['10', '52.07', '64'],\n ['1', '53.44', '64'],\n ['21', '37.22', '64'],\n ['9', '32.8', '64'],\n ['17', '37.96', '64'],\n ['20', '37.69', '64'],\n ['21', '39.09', '64'],\n ['1', '60.21', '64'],\n ['6', '50.9', '64'],\n ['6', '39.08', '64'],\n ['9', '50.62', '64'],\n ['20', '43.1', '64'],\n ['3', '57.76', '64'],\n ['8', '50.4', '64'],\n ['11', '45.51', '64'],\n ['20', '57.59', '64'],\n ['9', '36.52', '64'],\n ['1', '35.23', '64'],\n ['19', '37.82', '64'],\n ['7', '47.35', '64'],\n ['2', '39.54', '64'],\n ['20', '38.05', '64'],\n ['15', '35.96', '64'],\n ['1', '52.02', '64'],\n ['12', '39.69', '64'],\n ['3', '48.74', '64'],\n ['6', '43.33', '64'],\n ['4', '37.43', '64'],\n ['11', '57.03', '64'],\n ['9', '37.18', '64'],\n ['8', '54.37', '64'],\n ['4', '40.7', '64'],\n ['9', '31.81', '64'],\n ['17', '63.8', '64'],\n ['3', '30.5', '64'],\n ['13', '35.24', '64'],\n ['20', '34.36', '64'],\n ['15', '39.24', '64'],\n ['2', '44.04', '64'],\n ['2', '37.43', '64'],\n ['4', '42.56', '64'],\n ['11', '43.05', '64'],\n ['2', '38.77', '64'],\n ['9', '37.3', '64'],\n ['13', '54.37', '64'],\n ['4', '52.32', '64'],\n ['21', '40.52', '64'],\n ['8', '31.47', '64'],\n ['16', '42.87', '64'],\n ['10', '38.44', '64'],\n ['5', '50.76', '64'],\n ['19', '54.4', '64'],\n ['2', '60.14', '64'],\n ['5', '59.15', '64'],\n ['18', '47.5', '64'],\n ['15', '36.96', '64'],\n ['17', '64.16', '64'],\n ['4', '38.65', '64'],\n ['9', '39.61', '64'],\n ['10', '37.27', '64'],\n ['4', '34.6', '64'],\n ['19', '50.94', '64'],\n ['5', '31.1', '64'],\n ['15', '48.52', '64'],\n ['17', '58.55', '64'],\n ['17', '41.79', '64'],\n ['15', '38.91', '64'],\n ['21', '49.02', '64'],\n ['1', '45.54', '64'],\n ['4', '46.89', '64'],\n ['1', '53.69', '64'],\n ['3', '32.01', '64'],\n ['1', '48.83', '64'],\n ['9', '36.56', '64'],\n ['15', '33.51', '64'],\n ['20', '36.48', '64'],\n ['8', '34.69', '64'],\n ['7', '40.73', '64'],\n ['1', '31.5', '64'],\n ['20', '34.25', '64'],\n ['4', '31.39', '64'],\n ['20', '42.33', '64'],\n ['21', '37.86', '64'],\n ['5', '35.32', '64'],\n ['4', '42.62', '64'],\n ['4', '52.01', '64'],\n ['19', '48.79', '64'],\n ['17', '47.29', '64'],\n ['1', '70.25', '64'],\n ['9', '39.7', '64'],\n ['17', '41.51', '64'],\n ['19', '51.1', '64'],\n ['4', '35.68', '64'],\n ['6', '38.32', '64'],\n ['3', '54.06', '64'],\n ['12', '39.33', '64'],\n ['10', '36.97', '64'],\n ['21', '31.42', '64'],\n ['21', '35.42', '64'],\n ['9', '24.83', '64'],\n ['17', '51.92', '64'],\n ['2', '45.06', '64'],\n ['1', '24.48', '64'],\n ['16', '49.72', '64'],\n ['9', '31.75', '64'],\n ['11', '63.25', '64'],\n ['7', '36.79', '64'],\n ['8', '49.7', '64'],\n ['21', '52.2', '64'],\n ['16', '43.31', '64'],\n ['3', '41.56', '64'],\n ['11', '49.75', '64'],\n ['5', '39.1', '64'],\n ['13', '34.05', '64'],\n ['4', '50.26', '64'],\n ['3', '33.95', '64'],\n ['5', '55.61', '64'],\n ['13', '40.61', '64'],\n ['15', '37.72', '64'],\n ['3', '43.03', '64'],\n ['5', '37.78', '64'],\n ['17', '50.01', '64'],\n ['13', '58.26', '64'],\n ['19', '62.8', '64'],\n ['8', '40.83', '64'],\n ['4', '41.59', '64'],\n ['7', '35.92', '64'],\n ['9', '49.49', '64'],\n ['1', '55.46', '64'],\n ['9', '37.12', '64'],\n ['9', '37.02', '64'],\n ['19', '36.86', '64'],\n ['11', '48.81', '64'],\n ['13', '50.14', '64'],\n ['1', '50.26', '64'],\n ['8', '44.01', '64'],\n ['8', '32.81', '64'],\n ['20', '35.41', '64'],\n ['16', '48.3', '64'],\n ['17', '53.98', '64'],\n ['4', '60.1', '64'],\n ['12', '56.23', '64'],\n ['7', '62.18', '64'],\n ['20', '33.93', '64'],\n ['17', '43.83', '64'],\n ['6', '41.98', '64'],\n ['9', '40.5', '64'],\n ['3', '38.09', '64'],\n ['3', '36.73', '64'],\n ['11', '65.97', '64'],\n ['16', '43.22', '64'],\n ['4', '43.16', '64'],\n ['3', '30.14', '64'],\n ['3', '55.1', '64'],\n ['17', '39.69', '64'],\n ['2', '53.87', '64'],\n ['15', '37.62', '64'],\n ['7', '40.2', '64'],\n ['15', '36.04', '64'],\n ['4', '41.66', '64'],\n ['20', '37.66', '64'],\n ...]"
     },
     "execution_count": 134,
     "metadata": {},
     "output_type": "execute_result"
    }
   ],
   "source": [
    "import re\n",
    "gc_practice_list = []\n",
    "for i in list_practice:\n",
    "    float_gc = [i for i in re.findall(r\"[-+]?\\d*\\.\\d+|\\d+\", str(i))]\n",
    "    gc_practice_list.append(float_gc)\n",
    "gc_practice_list\n",
    "\n"
   ]
  },
  {
   "cell_type": "code",
   "execution_count": 139,
   "metadata": {},
   "outputs": [
    {
     "data": {
      "text/plain": "[51.77,\n 34.92,\n 36.02,\n 38.43,\n 42.66,\n 63.13,\n 39.27,\n 44.09,\n 31.13,\n 29.72,\n 62.26,\n 64.04,\n 39.76,\n 56.68,\n 60.43,\n 40.6,\n 40.98,\n 31.88,\n 46.48,\n 45.42,\n 38.83,\n 36.14,\n 31.88,\n 38.42,\n 40.18,\n 57.71,\n 41.19,\n 38.6,\n 49.53,\n 41.68,\n 63.13,\n 44.48,\n 47.93,\n 48.08,\n 62.87,\n 31.69,\n 40.51,\n 37.52,\n 37.51,\n 36.83,\n 33.78,\n 39.25,\n 35.34,\n 41.16,\n 51.62,\n 43.41,\n 58.43,\n 50.06,\n 48.69,\n 64.4,\n 42.31,\n 35.6,\n 47.54,\n 49.63,\n 37.35,\n 39.48,\n 41.32,\n 39.81,\n 51.48,\n 62.6,\n 36.27,\n 60.93,\n 31.31,\n 48.91,\n 42.36,\n 37.27,\n 35.64,\n 56.47,\n 36.91,\n 46.31,\n 34.89,\n 47.24,\n 39.04,\n 40.01,\n 53.89,\n 49.16,\n 37.66,\n 54.81,\n 34.74,\n 32.35,\n 33.97,\n 37.35,\n 55.24,\n 55.56,\n 40.43,\n 50.6,\n 50.12,\n 35.19,\n 53.79,\n 51.41,\n 49.77,\n 37.45,\n 44.8,\n 64.18,\n 40.57,\n 58.53,\n 56.55,\n 42.48,\n 58.85,\n 59.99,\n 37.44,\n 40.0,\n 40.76,\n 52.45,\n 50.17,\n 40.16,\n 39.4,\n 48.78,\n 35.14,\n 36.13,\n 38.09,\n 35.65,\n 37.0,\n 39.81,\n 49.98,\n 58.16,\n 63.59,\n 43.3,\n 41.11,\n 38.69,\n 49.83,\n 35.21,\n 26.92,\n 32.51,\n 47.37,\n 35.8,\n 39.23,\n 24.28,\n 61.61,\n 35.63,\n 51.66,\n 36.88,\n 47.69,\n 35.47,\n 36.91,\n 41.74,\n 39.3,\n 62.65,\n 38.27,\n 31.33,\n 44.47,\n 51.3,\n 46.35,\n 52.27,\n 37.38,\n 49.07,\n 32.68,\n 46.89,\n 32.29,\n 65.5,\n 36.37,\n 61.63,\n 47.46,\n 40.15,\n 49.67,\n 37.79,\n 19.72,\n 42.98,\n 52.73,\n 32.7,\n 35.9,\n 29.1,\n 56.15,\n 54.71,\n 50.58,\n 48.57,\n 45.13,\n 50.53,\n 51.0,\n 36.09,\n 41.16,\n 46.19,\n 58.04,\n 43.39,\n 19.41,\n 36.37,\n 37.5,\n 46.32,\n 55.76,\n 58.82,\n 43.47,\n 33.16,\n 50.24,\n 53.73,\n 46.38,\n 39.01,\n 37.09,\n 36.8,\n 34.17,\n 36.25,\n 36.37,\n 38.49,\n 33.17,\n 38.09,\n 36.65,\n 31.1,\n 60.35,\n 51.42,\n 36.35,\n 56.28,\n 32.47,\n 37.62,\n 33.33,\n 66.67,\n 48.08,\n 51.75,\n 43.32,\n 51.8,\n 54.95,\n 50.55,\n 28.0,\n 49.04,\n 40.14,\n 36.83,\n 45.47,\n 45.57,\n 38.56,\n 66.16,\n 53.0,\n 35.16,\n 40.95,\n 36.59,\n 38.33,\n 33.41,\n 40.9,\n 41.08,\n 57.8,\n 23.97,\n 53.26,\n 32.06,\n 42.41,\n 33.69,\n 35.65,\n 32.73,\n 42.56,\n 38.47,\n 23.2,\n 38.73,\n 56.93,\n 41.07,\n 36.04,\n 47.22,\n 38.88,\n 61.96,\n 41.9,\n 39.39,\n 45.11,\n 54.86,\n 34.81,\n 48.3,\n 46.68,\n 56.15,\n 61.49,\n 39.36,\n 36.71,\n 69.94,\n 40.21,\n 59.12,\n 50.05,\n 37.23,\n 24.26,\n 39.19,\n 38.58,\n 38.06,\n 43.7,\n 51.38,\n 44.57,\n 32.0,\n 54.28,\n 40.73,\n 40.66,\n 36.02,\n 47.77,\n 48.75,\n 62.81,\n 25.82,\n 39.94,\n 37.4,\n 35.71,\n 29.45,\n 39.61,\n 45.09,\n 61.56,\n 55.35,\n 40.38,\n 47.09,\n 44.98,\n 45.37,\n 53.7,\n 39.1,\n 34.85,\n 20.15,\n 43.59,\n 41.38,\n 41.49,\n 37.57,\n 30.58,\n 43.15,\n 49.25,\n 32.96,\n 37.01,\n 38.84,\n 47.18,\n 38.46,\n 53.23,\n 37.78,\n 44.92,\n 58.33,\n 40.18,\n 53.24,\n 53.25,\n 41.0,\n 60.44,\n 42.18,\n 35.37,\n 33.0,\n 20.02,\n 37.35,\n 42.74,\n 28.4,\n 36.42,\n 44.97,\n 40.94,\n 34.76,\n 27.06,\n 56.74,\n 54.3,\n 54.49,\n 52.22,\n 37.15,\n 49.64,\n 35.2,\n 43.33,\n 52.51,\n 31.42,\n 55.21,\n 37.61,\n 40.63,\n 53.44,\n 47.42,\n 38.74,\n 49.17,\n 39.59,\n 56.62,\n 39.71,\n 61.75,\n 40.43,\n 53.51,\n 54.77,\n 27.45,\n 61.63,\n 36.58,\n 46.24,\n 46.97,\n 41.6,\n 35.47,\n 32.03,\n 37.34,\n 36.94,\n 36.8,\n 40.3,\n 40.67,\n 44.02,\n 50.38,\n 41.35,\n 38.7,\n 20.8,\n 47.13,\n 35.12,\n 63.17,\n 36.02,\n 51.04,\n 41.89,\n 54.47,\n 35.83,\n 55.71,\n 36.31,\n 31.43,\n 54.22,\n 51.66,\n 50.11,\n 58.73,\n 45.51,\n 60.92,\n 36.36,\n 52.16,\n 50.44,\n 59.24,\n 57.27,\n 52.89,\n 35.89,\n 35.59,\n 35.18,\n 53.28,\n 37.22,\n 35.46,\n 32.59,\n 49.59,\n 47.03,\n 43.84,\n 41.49,\n 54.69,\n 42.81,\n 35.5,\n 39.38,\n 30.59,\n 45.81,\n 48.75,\n 36.43,\n 57.32,\n 63.71,\n 47.42,\n 63.02,\n 54.74,\n 57.36,\n 54.92,\n 28.34,\n 56.32,\n 56.12,\n 34.8,\n 40.05,\n 53.3,\n 41.47,\n 37.98,\n 38.31,\n 39.98,\n 55.45,\n 30.32,\n 33.41,\n 32.41,\n 36.76,\n 49.91,\n 40.99,\n 39.03,\n 57.62,\n 53.65,\n 37.25,\n 48.72,\n 36.06,\n 60.0,\n 23.44,\n 51.67,\n 60.89,\n 34.92,\n 56.81,\n 35.03,\n 34.84,\n 36.16,\n 46.56,\n 38.84,\n 45.58,\n 37.4,\n 32.11,\n 39.97,\n 30.32,\n 54.0,\n 55.12,\n 60.73,\n 43.13,\n 53.79,\n 54.44,\n 43.22,\n 37.64,\n 57.03,\n 36.97,\n 60.76,\n 42.12,\n 36.17,\n 62.79,\n 37.49,\n 56.08,\n 35.8,\n 46.96,\n 51.96,\n 62.27,\n 39.97,\n 40.19,\n 37.79,\n 44.09,\n 47.55,\n 33.84,\n 41.41,\n 37.5,\n 55.66,\n 47.62,\n 37.41,\n 50.4,\n 38.9,\n 23.94,\n 53.81,\n 37.27,\n 49.87,\n 41.76,\n 33.05,\n 48.84,\n 66.44,\n 39.51,\n 37.13,\n 70.54,\n 35.11,\n 51.53,\n 52.99,\n 52.51,\n 36.01,\n 40.9,\n 37.25,\n 40.99,\n 41.43,\n 50.26,\n 53.54,\n 38.1,\n 35.8,\n 33.94,\n 53.64,\n 53.21,\n 44.12,\n 48.46,\n 38.03,\n 35.98,\n 51.34,\n 41.93,\n 33.42,\n 32.18,\n 52.94,\n 34.66,\n 52.81,\n 33.19,\n 41.72,\n 49.46,\n 21.83,\n 60.14,\n 28.17,\n 47.17,\n 24.91,\n 36.49,\n 42.61,\n 38.36,\n 46.94,\n 37.18,\n 39.8,\n 49.74,\n 56.35,\n 41.1,\n 36.83,\n 39.41,\n 57.98,\n 37.3,\n 52.83,\n 50.12,\n 65.03,\n 40.33,\n 47.34,\n 31.2,\n 54.46,\n 23.29,\n 56.54,\n 50.08,\n 38.23,\n 47.45,\n 52.53,\n 52.68,\n 28.39,\n 37.04,\n 46.41,\n 39.91,\n 49.93,\n 41.17,\n 34.17,\n 35.69,\n 44.74,\n 31.07,\n 31.5,\n 37.09,\n 39.39,\n 46.95,\n 37.23,\n 32.88,\n 45.3,\n 44.51,\n 65.37,\n 42.89,\n 47.52,\n 40.31,\n 58.38,\n 54.74,\n 31.87,\n 37.34,\n 63.8,\n 41.54,\n 34.04,\n 39.87,\n 46.71,\n 47.36,\n 60.81,\n 52.36,\n 39.94,\n 60.59,\n 49.77,\n 37.65,\n 56.31,\n 41.86,\n 63.05,\n 35.25,\n 38.11,\n 55.64,\n 40.88,\n 51.07,\n 61.02,\n 34.78,\n 33.4,\n 37.15,\n 54.61,\n 57.77,\n 40.35,\n 37.31,\n 54.61,\n 49.28,\n 56.7,\n 35.79,\n 47.63,\n 38.61,\n 60.95,\n 32.39,\n 59.7,\n 36.24,\n 39.32,\n 44.7,\n 35.8,\n 47.25,\n 58.0,\n 32.8,\n 37.39,\n 38.44,\n 35.66,\n 46.52,\n 43.47,\n 48.15,\n 40.7,\n 39.48,\n 31.09,\n 39.67,\n 53.28,\n 47.69,\n 54.03,\n 55.41,\n 36.67,\n 41.34,\n 32.48,\n 44.15,\n 31.83,\n 31.7,\n 37.44,\n 26.7,\n 42.2,\n 55.7,\n 42.3,\n 39.6,\n 36.41,\n 33.98,\n 43.79,\n 56.48,\n 42.33,\n 51.2,\n 36.57,\n 46.45,\n 32.67,\n 45.61,\n 39.73,\n 38.68,\n 21.24,\n 38.04,\n 50.19,\n 59.96,\n 35.61,\n 58.0,\n 32.74,\n 38.58,\n 38.43,\n 35.16,\n 57.75,\n 41.93,\n 36.02,\n 41.82,\n 56.47,\n 60.06,\n 34.85,\n 38.97,\n 37.41,\n 39.3,\n 35.4,\n 54.35,\n 57.34,\n 39.94,\n 59.19,\n 34.55,\n 45.23,\n 63.48,\n 49.52,\n 53.9,\n 36.62,\n 44.76,\n 48.13,\n 29.13,\n 48.0,\n 46.5,\n 37.79,\n 26.73,\n 43.66,\n 32.63,\n 35.22,\n 48.66,\n 37.03,\n 35.31,\n 30.62,\n 32.08,\n 61.8,\n 51.87,\n 39.72,\n 53.91,\n 39.57,\n 60.17,\n 38.88,\n 39.39,\n 50.53,\n 51.18,\n 64.36,\n 39.58,\n 49.13,\n 37.34,\n 24.92,\n 62.67,\n 57.76,\n 49.11,\n 52.68,\n 48.17,\n 52.6,\n 55.16,\n 39.18,\n 40.15,\n 53.12,\n 50.2,\n 48.25,\n 26.98,\n 48.49,\n 42.14,\n 34.51,\n 41.89,\n 53.3,\n 40.88,\n 44.63,\n 38.82,\n 47.35,\n 50.37,\n 54.72,\n 37.53,\n 16.17,\n 63.05,\n 55.54,\n 45.73,\n 50.84,\n 53.57,\n 49.25,\n 38.97,\n 52.43,\n 24.3,\n 55.26,\n 34.63,\n 27.44,\n 58.77,\n 42.87,\n 45.82,\n 39.38,\n 37.81,\n 50.78,\n 37.07,\n 33.89,\n 37.15,\n 38.35,\n 34.57,\n 43.65,\n 24.1,\n 36.58,\n 64.14,\n 64.32,\n 51.38,\n 52.91,\n 37.79,\n 56.17,\n 30.28,\n 56.17,\n 50.53,\n 31.59,\n 37.68,\n 42.19,\n 38.76,\n 59.01,\n 42.56,\n 54.59,\n 57.72,\n 36.34,\n 24.98,\n 40.8,\n 32.98,\n 37.88,\n 25.48,\n 37.78,\n 27.31,\n 52.84,\n 21.17,\n 41.11,\n 39.29,\n 52.12,\n 56.83,\n 63.41,\n 38.05,\n 35.25,\n 57.96,\n 36.69,\n 34.67,\n 65.89,\n 63.0,\n 58.9,\n 35.8,\n 50.79,\n 46.74,\n 33.81,\n 37.86,\n 35.48,\n 53.66,\n 36.91,\n 33.69,\n 44.18,\n 34.25,\n 37.58,\n 39.91,\n 36.31,\n 36.62,\n 53.41,\n 38.73,\n 52.07,\n 53.44,\n 37.22,\n 32.8,\n 37.96,\n 37.69,\n 39.09,\n 60.21,\n 50.9,\n 39.08,\n 50.62,\n 43.1,\n 57.76,\n 50.4,\n 45.51,\n 57.59,\n 36.52,\n 35.23,\n 37.82,\n 47.35,\n 39.54,\n 38.05,\n 35.96,\n 52.02,\n 39.69,\n 48.74,\n 43.33,\n 37.43,\n 57.03,\n 37.18,\n 54.37,\n 40.7,\n 31.81,\n 63.8,\n 30.5,\n 35.24,\n 34.36,\n 39.24,\n 44.04,\n 37.43,\n 42.56,\n 43.05,\n 38.77,\n 37.3,\n 54.37,\n 52.32,\n 40.52,\n 31.47,\n 42.87,\n 38.44,\n 50.76,\n 54.4,\n 60.14,\n 59.15,\n 47.5,\n 36.96,\n 64.16,\n 38.65,\n 39.61,\n 37.27,\n 34.6,\n 50.94,\n 31.1,\n 48.52,\n 58.55,\n 41.79,\n 38.91,\n 49.02,\n 45.54,\n 46.89,\n 53.69,\n 32.01,\n 48.83,\n 36.56,\n 33.51,\n 36.48,\n 34.69,\n 40.73,\n 31.5,\n 34.25,\n 31.39,\n 42.33,\n 37.86,\n 35.32,\n 42.62,\n 52.01,\n 48.79,\n 47.29,\n 70.25,\n 39.7,\n 41.51,\n 51.1,\n 35.68,\n 38.32,\n 54.06,\n 39.33,\n 36.97,\n 31.42,\n 35.42,\n 24.83,\n 51.92,\n 45.06,\n 24.48,\n 49.72,\n 31.75,\n 63.25,\n 36.79,\n 49.7,\n 52.2,\n 43.31,\n 41.56,\n 49.75,\n 39.1,\n 34.05,\n 50.26,\n 33.95,\n 55.61,\n 40.61,\n 37.72,\n 43.03,\n 37.78,\n 50.01,\n 58.26,\n 62.8,\n 40.83,\n 41.59,\n 35.92,\n 49.49,\n 55.46,\n 37.12,\n 37.02,\n 36.86,\n 48.81,\n 50.14,\n 50.26,\n 44.01,\n 32.81,\n 35.41,\n 48.3,\n 53.98,\n 60.1,\n 56.23,\n 62.18,\n 33.93,\n 43.83,\n 41.98,\n 40.5,\n 38.09,\n 36.73,\n 65.97,\n 43.22,\n 43.16,\n 30.14,\n 55.1,\n 39.69,\n 53.87,\n 37.62,\n 40.2,\n 36.04,\n 41.66,\n 37.66,\n ...]"
     },
     "execution_count": 139,
     "metadata": {},
     "output_type": "execute_result"
    }
   ],
   "source": [
    "actual_shit = []\n",
    "for i in gc_practice_list:\n",
    "    actual_shit.append(float(i[1]))\n",
    "actual_shit"
   ]
  },
  {
   "cell_type": "code",
   "execution_count": 140,
   "metadata": {},
   "outputs": [
    {
     "data": {
      "text/html": "<div>\n<style scoped>\n    .dataframe tbody tr th:only-of-type {\n        vertical-align: middle;\n    }\n\n    .dataframe tbody tr th {\n        vertical-align: top;\n    }\n\n    .dataframe thead th {\n        text-align: right;\n    }\n</style>\n<table border=\"1\" class=\"dataframe\">\n  <thead>\n    <tr style=\"text-align: right;\">\n      <th></th>\n      <th>UniprotID</th>\n      <th>F1_score</th>\n      <th>Gene Prediction Program</th>\n      <th>%GC</th>\n    </tr>\n    <tr>\n      <th>NewFilename</th>\n      <th></th>\n      <th></th>\n      <th></th>\n      <th></th>\n    </tr>\n  </thead>\n  <tbody>\n    <tr>\n      <th>G3WML8_SARHA.augustus</th>\n      <td>G3WML8_SARHA</td>\n      <td>0.997</td>\n      <td>1</td>\n      <td>51.77</td>\n    </tr>\n    <tr>\n      <th>X6NC44_RETFI.augustus</th>\n      <td>X6NC44_RETFI</td>\n      <td>0.841</td>\n      <td>1</td>\n      <td>34.92</td>\n    </tr>\n    <tr>\n      <th>G3T3V8_LOXAF.augustus</th>\n      <td>G3T3V8_LOXAF</td>\n      <td>0.000</td>\n      <td>1</td>\n      <td>36.02</td>\n    </tr>\n    <tr>\n      <th>G3SRN0_LOXAF.augustus</th>\n      <td>G3SRN0_LOXAF</td>\n      <td>0.952</td>\n      <td>1</td>\n      <td>38.43</td>\n    </tr>\n    <tr>\n      <th>SDCG8_MOUSE.augustus</th>\n      <td>SDCG8_MOUSE</td>\n      <td>0.055</td>\n      <td>1</td>\n      <td>42.66</td>\n    </tr>\n    <tr>\n      <th>...</th>\n      <td>...</td>\n      <td>...</td>\n      <td>...</td>\n      <td>...</td>\n    </tr>\n    <tr>\n      <th>G1RZS0_NOMLE.snap</th>\n      <td>G1RZS0_NOMLE</td>\n      <td>0.000</td>\n      <td>5</td>\n      <td>37.28</td>\n    </tr>\n    <tr>\n      <th>I3LAV0_PIG.snap</th>\n      <td>I3LAV0_PIG</td>\n      <td>0.000</td>\n      <td>5</td>\n      <td>38.75</td>\n    </tr>\n    <tr>\n      <th>G3PLE4_GASAC.snap</th>\n      <td>G3PLE4_GASAC</td>\n      <td>0.870</td>\n      <td>5</td>\n      <td>43.57</td>\n    </tr>\n    <tr>\n      <th>G4VMY2_SCHMA.snap</th>\n      <td>G4VMY2_SCHMA</td>\n      <td>0.734</td>\n      <td>5</td>\n      <td>32.28</td>\n    </tr>\n    <tr>\n      <th>H2TTM2_TAKRU.snap</th>\n      <td>H2TTM2_TAKRU</td>\n      <td>0.000</td>\n      <td>5</td>\n      <td>42.48</td>\n    </tr>\n  </tbody>\n</table>\n<p>8965 rows × 4 columns</p>\n</div>",
      "text/plain": "                          UniprotID  F1_score  Gene Prediction Program    %GC\nNewFilename                                                                  \nG3WML8_SARHA.augustus  G3WML8_SARHA     0.997                        1  51.77\nX6NC44_RETFI.augustus  X6NC44_RETFI     0.841                        1  34.92\nG3T3V8_LOXAF.augustus  G3T3V8_LOXAF     0.000                        1  36.02\nG3SRN0_LOXAF.augustus  G3SRN0_LOXAF     0.952                        1  38.43\nSDCG8_MOUSE.augustus    SDCG8_MOUSE     0.055                        1  42.66\n...                             ...       ...                      ...    ...\nG1RZS0_NOMLE.snap      G1RZS0_NOMLE     0.000                        5  37.28\nI3LAV0_PIG.snap          I3LAV0_PIG     0.000                        5  38.75\nG3PLE4_GASAC.snap      G3PLE4_GASAC     0.870                        5  43.57\nG4VMY2_SCHMA.snap      G4VMY2_SCHMA     0.734                        5  32.28\nH2TTM2_TAKRU.snap      H2TTM2_TAKRU     0.000                        5  42.48\n\n[8965 rows x 4 columns]"
     },
     "execution_count": 140,
     "metadata": {},
     "output_type": "execute_result"
    }
   ],
   "source": [
    "df_DBSCANfile['%GC'] = actual_shit\n",
    "df_DBSCANfile"
   ]
  },
  {
   "cell_type": "code",
   "execution_count": 141,
   "metadata": {},
   "outputs": [],
   "source": [
    "list_of_gene_lengths = []\n",
    "for i in df_DBSCANfile['UniprotID']:\n",
    "    for x in df_G3PO['Uniprot_ID']:\n",
    "        if i == x:\n",
    "            list_of_gene_lengths.append(df_G3PO.loc[df_G3PO.Uniprot_ID==i,'Gene_length'])"
   ]
  },
  {
   "cell_type": "code",
   "execution_count": 142,
   "metadata": {},
   "outputs": [],
   "source": [
    "import re\n",
    "gene_length_refined = []\n",
    "for i in list_of_gene_lengths:\n",
    "    float_gc = [i for i in re.findall(r\"[-+]?\\d*\\.\\d+|\\d+\", str(i))]\n",
    "    gene_length_refined.append(float_gc)\n",
    "actual_gene_lengths = []\n",
    "for i in gene_length_refined:\n",
    "    actual_gene_lengths.append(float(i[1]))\n",
    "df_DBSCANfile['Gene_lengths'] = actual_gene_lengths"
   ]
  },
  {
   "cell_type": "code",
   "execution_count": 143,
   "metadata": {},
   "outputs": [
    {
     "data": {
      "text/html": "<div>\n<style scoped>\n    .dataframe tbody tr th:only-of-type {\n        vertical-align: middle;\n    }\n\n    .dataframe tbody tr th {\n        vertical-align: top;\n    }\n\n    .dataframe thead th {\n        text-align: right;\n    }\n</style>\n<table border=\"1\" class=\"dataframe\">\n  <thead>\n    <tr style=\"text-align: right;\">\n      <th></th>\n      <th>UniprotID</th>\n      <th>F1_score</th>\n      <th>Gene Prediction Program</th>\n      <th>%GC</th>\n      <th>Gene_lengths</th>\n    </tr>\n    <tr>\n      <th>NewFilename</th>\n      <th></th>\n      <th></th>\n      <th></th>\n      <th></th>\n      <th></th>\n    </tr>\n  </thead>\n  <tbody>\n    <tr>\n      <th>G3WML8_SARHA.augustus</th>\n      <td>G3WML8_SARHA</td>\n      <td>0.997</td>\n      <td>1</td>\n      <td>51.77</td>\n      <td>1953.0</td>\n    </tr>\n    <tr>\n      <th>X6NC44_RETFI.augustus</th>\n      <td>X6NC44_RETFI</td>\n      <td>0.841</td>\n      <td>1</td>\n      <td>34.92</td>\n      <td>590.0</td>\n    </tr>\n    <tr>\n      <th>G3T3V8_LOXAF.augustus</th>\n      <td>G3T3V8_LOXAF</td>\n      <td>0.000</td>\n      <td>1</td>\n      <td>36.02</td>\n      <td>44220.0</td>\n    </tr>\n    <tr>\n      <th>G3SRN0_LOXAF.augustus</th>\n      <td>G3SRN0_LOXAF</td>\n      <td>0.952</td>\n      <td>1</td>\n      <td>38.43</td>\n      <td>46231.0</td>\n    </tr>\n    <tr>\n      <th>SDCG8_MOUSE.augustus</th>\n      <td>SDCG8_MOUSE</td>\n      <td>0.055</td>\n      <td>1</td>\n      <td>42.66</td>\n      <td>205778.0</td>\n    </tr>\n    <tr>\n      <th>...</th>\n      <td>...</td>\n      <td>...</td>\n      <td>...</td>\n      <td>...</td>\n      <td>...</td>\n    </tr>\n    <tr>\n      <th>G1RZS0_NOMLE.snap</th>\n      <td>G1RZS0_NOMLE</td>\n      <td>0.000</td>\n      <td>5</td>\n      <td>37.28</td>\n      <td>479401.0</td>\n    </tr>\n    <tr>\n      <th>I3LAV0_PIG.snap</th>\n      <td>I3LAV0_PIG</td>\n      <td>0.000</td>\n      <td>5</td>\n      <td>38.75</td>\n      <td>443612.0</td>\n    </tr>\n    <tr>\n      <th>G3PLE4_GASAC.snap</th>\n      <td>G3PLE4_GASAC</td>\n      <td>0.870</td>\n      <td>5</td>\n      <td>43.57</td>\n      <td>8276.0</td>\n    </tr>\n    <tr>\n      <th>G4VMY2_SCHMA.snap</th>\n      <td>G4VMY2_SCHMA</td>\n      <td>0.734</td>\n      <td>5</td>\n      <td>32.28</td>\n      <td>12192.0</td>\n    </tr>\n    <tr>\n      <th>H2TTM2_TAKRU.snap</th>\n      <td>H2TTM2_TAKRU</td>\n      <td>0.000</td>\n      <td>5</td>\n      <td>42.48</td>\n      <td>41678.0</td>\n    </tr>\n  </tbody>\n</table>\n<p>8965 rows × 5 columns</p>\n</div>",
      "text/plain": "                          UniprotID  F1_score  Gene Prediction Program    %GC  \\\nNewFilename                                                                     \nG3WML8_SARHA.augustus  G3WML8_SARHA     0.997                        1  51.77   \nX6NC44_RETFI.augustus  X6NC44_RETFI     0.841                        1  34.92   \nG3T3V8_LOXAF.augustus  G3T3V8_LOXAF     0.000                        1  36.02   \nG3SRN0_LOXAF.augustus  G3SRN0_LOXAF     0.952                        1  38.43   \nSDCG8_MOUSE.augustus    SDCG8_MOUSE     0.055                        1  42.66   \n...                             ...       ...                      ...    ...   \nG1RZS0_NOMLE.snap      G1RZS0_NOMLE     0.000                        5  37.28   \nI3LAV0_PIG.snap          I3LAV0_PIG     0.000                        5  38.75   \nG3PLE4_GASAC.snap      G3PLE4_GASAC     0.870                        5  43.57   \nG4VMY2_SCHMA.snap      G4VMY2_SCHMA     0.734                        5  32.28   \nH2TTM2_TAKRU.snap      H2TTM2_TAKRU     0.000                        5  42.48   \n\n                       Gene_lengths  \nNewFilename                          \nG3WML8_SARHA.augustus        1953.0  \nX6NC44_RETFI.augustus         590.0  \nG3T3V8_LOXAF.augustus       44220.0  \nG3SRN0_LOXAF.augustus       46231.0  \nSDCG8_MOUSE.augustus       205778.0  \n...                             ...  \nG1RZS0_NOMLE.snap          479401.0  \nI3LAV0_PIG.snap            443612.0  \nG3PLE4_GASAC.snap            8276.0  \nG4VMY2_SCHMA.snap           12192.0  \nH2TTM2_TAKRU.snap           41678.0  \n\n[8965 rows x 5 columns]"
     },
     "execution_count": 143,
     "metadata": {},
     "output_type": "execute_result"
    }
   ],
   "source": [
    "df_DBSCANfile"
   ]
  },
  {
   "cell_type": "code",
   "execution_count": 156,
   "metadata": {},
   "outputs": [],
   "source": [
    "df_testing_algo = df_DBSCANfile[['F1_score', '%GC', 'Gene_lengths']]"
   ]
  },
  {
   "cell_type": "code",
   "execution_count": 160,
   "metadata": {},
   "outputs": [],
   "source": [
    "df_testing_algo.to_csv('plzwork.csv', index=False)"
   ]
  },
  {
   "cell_type": "code",
   "execution_count": null,
   "metadata": {},
   "outputs": [],
   "source": []
  }
 ],
 "metadata": {
  "kernelspec": {
   "display_name": "Python 3",
   "name": "python3"
  },
  "language_info": {
   "codemirror_mode": {
    "name": "ipython",
    "version": 3
   },
   "file_extension": ".py",
   "mimetype": "text/x-python",
   "name": "python",
   "nbconvert_exporter": "python",
   "pygments_lexer": "ipython3",
   "version": "3.7.6"
  },
  "orig_nbformat": 2
 },
 "nbformat": 4,
 "nbformat_minor": 2
}